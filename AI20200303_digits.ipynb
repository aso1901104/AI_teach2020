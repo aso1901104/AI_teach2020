{
  "nbformat": 4,
  "nbformat_minor": 0,
  "metadata": {
    "colab": {
      "name": "AI20200303-digits.ipynb",
      "provenance": [],
      "collapsed_sections": [],
      "authorship_tag": "ABX9TyPlc4HP14V2Csj1ZOvN0++X",
      "include_colab_link": true
    },
    "kernelspec": {
      "name": "python3",
      "display_name": "Python 3"
    }
  },
  "cells": [
    {
      "cell_type": "markdown",
      "metadata": {
        "id": "view-in-github",
        "colab_type": "text"
      },
      "source": [
        "<a href=\"https://colab.research.google.com/github/aso1901104/AI_teach2020/blob/master/AI20200303_digits.ipynb\" target=\"_parent\"><img src=\"https://colab.research.google.com/assets/colab-badge.svg\" alt=\"Open In Colab\"/></a>"
      ]
    },
    {
      "cell_type": "markdown",
      "metadata": {
        "id": "zGWmG-gz96e8"
      },
      "source": [
        "# 手書き文字を認識させる"
      ]
    },
    {
      "cell_type": "markdown",
      "metadata": {
        "id": "xvT_2kk_-Cvu"
      },
      "source": [
        "### 手書き文字のデータセット(sklearn付属)を読み込み"
      ]
    },
    {
      "cell_type": "code",
      "metadata": {
        "id": "cI2g-HxZ93OL"
      },
      "source": [
        "# sklearn付属のデータセットを読み込む\n",
        "from sklearn import datasets"
      ],
      "execution_count": 62,
      "outputs": []
    },
    {
      "cell_type": "code",
      "metadata": {
        "id": "NSELVWRX-QEP"
      },
      "source": [
        "# openCVとplotのライブラリを読み込む\n",
        "import cv2\n",
        "import matplotlib.pyplot as plt"
      ],
      "execution_count": 63,
      "outputs": []
    },
    {
      "cell_type": "code",
      "metadata": {
        "id": "AowEom6i-Z4j",
        "colab": {
          "base_uri": "https://localhost:8080/",
          "height": 282
        },
        "outputId": "ad02c4bf-5ff5-4ca1-a548-578ff83cde6a"
      },
      "source": [
        "# ライブラリのデータをプログラムに読み込む\n",
        "digits = datasets.load_digits() # 10進数整数用の文字データ\n",
        "type(digits)\n",
        "# 1つめを表示してみる\n",
        "plt.imshow(digits.images[0], cmap=\"gray\")\n",
        "plt.show()\n",
        "# データ型を確認\n",
        "print(type(digits.images))"
      ],
      "execution_count": 64,
      "outputs": [
        {
          "output_type": "display_data",
          "data": {
            "image/png": "[encoded data removed]",
            "text/plain": [
              "<Figure size 432x288 with 1 Axes>"
            ]
          },
          "metadata": {
            "tags": [],
            "needs_background": "light"
          }
        },
        {
          "output_type": "stream",
          "text": [
            "<class 'numpy.ndarray'>\n"
          ],
          "name": "stdout"
        }
      ]
    },
    {
      "cell_type": "markdown",
      "metadata": {
        "id": "q1WsbrGk_JfR"
      },
      "source": [
        "### データセットの説明書きを表示"
      ]
    },
    {
      "cell_type": "code",
      "metadata": {
        "id": "HEGcz5H_-u3a",
        "colab": {
          "base_uri": "https://localhost:8080/"
        },
        "outputId": "ae372fd7-dd04-4de7-c7d2-e7182d810f41"
      },
      "source": [
        "# データセットの詳細説明(describe)\n",
        "print(digits.DESCR)"
      ],
      "execution_count": 65,
      "outputs": [
        {
          "output_type": "stream",
          "text": [
            ".. _digits_dataset:\n",
            "\n",
            "Optical recognition of handwritten digits dataset\n",
            "--------------------------------------------------\n",
            "\n",
            "**Data Set Characteristics:**\n",
            "\n",
            "    :Number of Instances: 5620\n",
            "    :Number of Attributes: 64\n",
            "    :Attribute Information: 8x8 image of integer pixels in the range 0..16.\n",
            "    :Missing Attribute Values: None\n",
            "    :Creator: E. Alpaydin (alpaydin '@' boun.edu.tr)\n",
            "    :Date: July; 1998\n",
            "\n",
            "This is a copy of the test set of the UCI ML hand-written digits datasets\n",
            "https://archive.ics.uci.edu/ml/datasets/Optical+Recognition+of+Handwritten+Digits\n",
            "\n",
            "The data set contains images of hand-written digits: 10 classes where\n",
            "each class refers to a digit.\n",
            "\n",
            "Preprocessing programs made available by NIST were used to extract\n",
            "normalized bitmaps of handwritten digits from a preprinted form. From a\n",
            "total of 43 people, 30 contributed to the training set and different 13\n",
            "to the test set. 32x32 bitmaps are divided into nonoverlapping blocks of\n",
            "4x4 and the number of on pixels are counted in each block. This generates\n",
            "an input matrix of 8x8 where each element is an integer in the range\n",
            "0..16. This reduces dimensionality and gives invariance to small\n",
            "distortions.\n",
            "\n",
            "For info on NIST preprocessing routines, see M. D. Garris, J. L. Blue, G.\n",
            "T. Candela, D. L. Dimmick, J. Geist, P. J. Grother, S. A. Janet, and C.\n",
            "L. Wilson, NIST Form-Based Handprint Recognition System, NISTIR 5469,\n",
            "1994.\n",
            "\n",
            ".. topic:: References\n",
            "\n",
            "  - C. Kaynak (1995) Methods of Combining Multiple Classifiers and Their\n",
            "    Applications to Handwritten Digit Recognition, MSc Thesis, Institute of\n",
            "    Graduate Studies in Science and Engineering, Bogazici University.\n",
            "  - E. Alpaydin, C. Kaynak (1998) Cascading Classifiers, Kybernetika.\n",
            "  - Ken Tang and Ponnuthurai N. Suganthan and Xi Yao and A. Kai Qin.\n",
            "    Linear dimensionalityreduction using relevance weighted LDA. School of\n",
            "    Electrical and Electronic Engineering Nanyang Technological University.\n",
            "    2005.\n",
            "  - Claudio Gentile. A New Approximate Maximal Margin Classification\n",
            "    Algorithm. NIPS. 2000.\n"
          ],
          "name": "stdout"
        }
      ]
    },
    {
      "cell_type": "markdown",
      "metadata": {
        "id": "V1YunqrO_mNf"
      },
      "source": [
        "### データセットの各画像情報(ピクセル)を画像として表示"
      ]
    },
    {
      "cell_type": "code",
      "metadata": {
        "id": "nmW73fmw_jZ-",
        "colab": {
          "base_uri": "https://localhost:8080/",
          "height": 258
        },
        "outputId": "0775be84-dc47-4449-b216-a1a59afb857c"
      },
      "source": [
        "for i in range(15): # 0から15未満まで\n",
        "  plt.subplot(3, 5, i+1) # 3行5列ひとつずつ表示\n",
        "  plt.axis('off') # 軸は表示しない\n",
        "  # targetという配列に対応する数値があるので件名として表示\n",
        "  plt.title(str(digits.target[i]))\n",
        "  # 画像データをグレースケールで表示\n",
        "  plt.imshow(digits.images[i], cmap=\"gray\")\n",
        "plt.show()"
      ],
      "execution_count": 66,
      "outputs": [
        {
          "output_type": "display_data",
          "data": {
            "image/png": "[encoded data removed]",
            "text/plain": [
              "<Figure size 432x288 with 15 Axes>"
            ]
          },
          "metadata": {
            "tags": [],
            "needs_background": "light"
          }
        }
      ]
    },
    {
      "cell_type": "markdown",
      "metadata": {
        "id": "QC596GZSAlOy"
      },
      "source": [
        "### digitsのimagesに画像情報が、targetに正解の数値(ラベル)が入っている"
      ]
    },
    {
      "cell_type": "code",
      "metadata": {
        "id": "JVbBpa6i_905",
        "colab": {
          "base_uri": "https://localhost:8080/",
          "height": 1000
        },
        "outputId": "b35d856b-ce3f-4ef0-fe27-ea842e9f09a2"
      },
      "source": [
        "# digits.imagesの様子を表示して確認してみる\n",
        "# numpy配列\n",
        "print(type(digits.images))\n",
        "# 中身\n",
        "print(digits.images)\n",
        "# 1つめだけ取り出す\n",
        "d0 = digits.images[0]\n",
        "# 画面に表示してみる(画像として)\n",
        "plt.imshow(d0, cmap=\"gray\")\n",
        "plt.show()\n",
        "# 画像情報を表示\n",
        "print(d0)"
      ],
      "execution_count": 67,
      "outputs": [
        {
          "output_type": "stream",
          "text": [
            "<class 'numpy.ndarray'>\n",
            "[[[ 0.  0.  5. ...  1.  0.  0.]\n",
            "  [ 0.  0. 13. ... 15.  5.  0.]\n",
            "  [ 0.  3. 15. ... 11.  8.  0.]\n",
            "  ...\n",
            "  [ 0.  4. 11. ... 12.  7.  0.]\n",
            "  [ 0.  2. 14. ... 12.  0.  0.]\n",
            "  [ 0.  0.  6. ...  0.  0.  0.]]\n",
            "\n",
            " [[ 0.  0.  0. ...  5.  0.  0.]\n",
            "  [ 0.  0.  0. ...  9.  0.  0.]\n",
            "  [ 0.  0.  3. ...  6.  0.  0.]\n",
            "  ...\n",
            "  [ 0.  0.  1. ...  6.  0.  0.]\n",
            "  [ 0.  0.  1. ...  6.  0.  0.]\n",
            "  [ 0.  0.  0. ... 10.  0.  0.]]\n",
            "\n",
            " [[ 0.  0.  0. ... 12.  0.  0.]\n",
            "  [ 0.  0.  3. ... 14.  0.  0.]\n",
            "  [ 0.  0.  8. ... 16.  0.  0.]\n",
            "  ...\n",
            "  [ 0.  9. 16. ...  0.  0.  0.]\n",
            "  [ 0.  3. 13. ... 11.  5.  0.]\n",
            "  [ 0.  0.  0. ... 16.  9.  0.]]\n",
            "\n",
            " ...\n",
            "\n",
            " [[ 0.  0.  1. ...  1.  0.  0.]\n",
            "  [ 0.  0. 13. ...  2.  1.  0.]\n",
            "  [ 0.  0. 16. ... 16.  5.  0.]\n",
            "  ...\n",
            "  [ 0.  0. 16. ... 15.  0.  0.]\n",
            "  [ 0.  0. 15. ... 16.  0.  0.]\n",
            "  [ 0.  0.  2. ...  6.  0.  0.]]\n",
            "\n",
            " [[ 0.  0.  2. ...  0.  0.  0.]\n",
            "  [ 0.  0. 14. ... 15.  1.  0.]\n",
            "  [ 0.  4. 16. ... 16.  7.  0.]\n",
            "  ...\n",
            "  [ 0.  0.  0. ... 16.  2.  0.]\n",
            "  [ 0.  0.  4. ... 16.  2.  0.]\n",
            "  [ 0.  0.  5. ... 12.  0.  0.]]\n",
            "\n",
            " [[ 0.  0. 10. ...  1.  0.  0.]\n",
            "  [ 0.  2. 16. ...  1.  0.  0.]\n",
            "  [ 0.  0. 15. ... 15.  0.  0.]\n",
            "  ...\n",
            "  [ 0.  4. 16. ... 16.  6.  0.]\n",
            "  [ 0.  8. 16. ... 16.  8.  0.]\n",
            "  [ 0.  1.  8. ... 12.  1.  0.]]]\n"
          ],
          "name": "stdout"
        },
        {
          "output_type": "display_data",
          "data": {
            "image/png": "[encoded data removed]",
            "text/plain": [
              "<Figure size 432x288 with 1 Axes>"
            ]
          },
          "metadata": {
            "tags": [],
            "needs_background": "light"
          }
        },
        {
          "output_type": "stream",
          "text": [
            "[[ 0.  0.  5. 13.  9.  1.  0.  0.]\n",
            " [ 0.  0. 13. 15. 10. 15.  5.  0.]\n",
            " [ 0.  3. 15.  2.  0. 11.  8.  0.]\n",
            " [ 0.  4. 12.  0.  0.  8.  8.  0.]\n",
            " [ 0.  5.  8.  0.  0.  9.  8.  0.]\n",
            " [ 0.  4. 11.  0.  1. 12.  7.  0.]\n",
            " [ 0.  2. 14.  5. 10. 12.  0.  0.]\n",
            " [ 0.  0.  6. 13. 10.  0.  0.  0.]]\n"
          ],
          "name": "stdout"
        }
      ]
    },
    {
      "cell_type": "markdown",
      "metadata": {
        "id": "HqMi4XWZBadb"
      },
      "source": [
        "### データセットの文字情報の配列を整形して1文字ずつの2次元配列に整形(1文字=1行64ピクセル)"
      ]
    },
    {
      "cell_type": "code",
      "metadata": {
        "id": "OCJU2QFoA7Qb",
        "colab": {
          "base_uri": "https://localhost:8080/"
        },
        "outputId": "f12af32b-8090-4ccf-f777-78dde0c806a3"
      },
      "source": [
        "d = digits.images\n",
        "# 人にの行数で、1行64列を指定して配列(行列)を整形\n",
        "d = d.reshape(-1, 64)\n",
        "print(\"1行の長さ(ピクセル数)：\", len(d[0]))\n",
        "# 全体(2次元配列)の行数\n",
        "print(\"全体 (2次元配列)の行数：\", len(d))\n",
        "# 1行目の文字情報を出力\n",
        "print(d[0])"
      ],
      "execution_count": 68,
      "outputs": [
        {
          "output_type": "stream",
          "text": [
            "1行の長さ(ピクセル数)： 64\n",
            "全体 (2次元配列)の行数： 1797\n",
            "[ 0.  0.  5. 13.  9.  1.  0.  0.  0.  0. 13. 15. 10. 15.  5.  0.  0.  3.\n",
            " 15.  2.  0. 11.  8.  0.  0.  4. 12.  0.  0.  8.  8.  0.  0.  5.  8.  0.\n",
            "  0.  9.  8.  0.  0.  4. 11.  0.  1. 12.  7.  0.  0.  2. 14.  5. 10. 12.\n",
            "  0.  0.  0.  0.  6. 13. 10.  0.  0.  0.]\n"
          ],
          "name": "stdout"
        }
      ]
    },
    {
      "cell_type": "markdown",
      "metadata": {
        "id": "oQAzwMXMCTKl"
      },
      "source": [
        "### データセットを使ってまず学習済みモデルを作る(アルゴリズムはsvm)"
      ]
    },
    {
      "cell_type": "code",
      "metadata": {
        "id": "heOEjSkwB_SP"
      },
      "source": [
        "# ライブラリのimport\n",
        "# 学習用データとテスト検証用データを分けるライブラリ\n",
        "from sklearn.model_selection import train_test_split\n",
        "# データセットとsvmとmetricsをカンマ区切りで一度にimport\n",
        "from sklearn import datasets, svm, metrics\n",
        "# 精度検証用\n",
        "from sklearn.metrics import accuracy_score"
      ],
      "execution_count": 69,
      "outputs": []
    },
    {
      "cell_type": "markdown",
      "metadata": {
        "id": "8SL4e0GoC_YX"
      },
      "source": [
        "### データを読み込む(一度やっているのでしなくてもOK)"
      ]
    },
    {
      "cell_type": "code",
      "metadata": {
        "id": "p_hkwWe-CuAr",
        "colab": {
          "base_uri": "https://localhost:8080/"
        },
        "outputId": "5db80ad3-85ee-44ee-ad66-11e4f97efc89"
      },
      "source": [
        "# dict型になっている{images:value, target:value}(連想配列に似ている)\n",
        "digits = datasets.load_digits()\n",
        "# 説明変数として格納\n",
        "x = digits.images\n",
        "# 目的変数として格納\n",
        "y = digits.target\n",
        "# 構成を確認\n",
        "print(\"xの構成\", x.shape)\n",
        "print('yの構成', y.shape)\n",
        "\n",
        "# xの3次元配列を任意行の64列の2次元配列に変換(1行1文字データにする)\n",
        "x = x.reshape(-1, 64)\n",
        "\n",
        "# データを学習用とテスト検証用に分割する\n",
        "# x_train, x_test, y_train, y_test = train_test_split(x, y, test_size=0.25)\n",
        "\n",
        "# バックスラッシュで継続改行(改行じゃなくて続きの行だという意味)\n",
        "x_train, x_test, y_train, y_test = \\\n",
        "train_test_split(x, y, test_size=0.25)\n",
        "\n",
        "# SVCの学習モデルを生成\n",
        "clf = svm.SVC()\n",
        "# 学習データを学習する\n",
        "clf.fit(x_train, y_train)\n",
        "\n",
        "# 学習済みになったので、テスト検証用データでテスト検証して予測精度を確認する\n",
        "y_pred = clf.predict(x_test) # テスト検証\n",
        "# 精度表示\n",
        "print(accuracy_score(y_test, y_pred))"
      ],
      "execution_count": 70,
      "outputs": [
        {
          "output_type": "stream",
          "text": [
            "xの構成 (1797, 8, 8)\n",
            "yの構成 (1797,)\n",
            "0.9822222222222222\n"
          ],
          "name": "stdout"
        }
      ]
    },
    {
      "cell_type": "markdown",
      "metadata": {
        "id": "lb7j0_s9FrvW"
      },
      "source": [
        "### 学習済みモデルをバイナリファイルとして保存"
      ]
    },
    {
      "cell_type": "code",
      "metadata": {
        "id": "mAf7D1feDbOc"
      },
      "source": [
        "# 保存用ライブラリ\n",
        "import pickle\n",
        "# バイナリ書き込みモード(wb)でファイルポインタ(fp)をオープン\n",
        "with open(\"digits.pkl\", \"wb\") as fp: # \"digits.pkl\"は好きなファイル名でよい\n",
        "   pickle.dump(clf, fp) # ピクル(塩漬け)ファイrへ投げ込む(dump)"
      ],
      "execution_count": 71,
      "outputs": []
    },
    {
      "cell_type": "markdown",
      "metadata": {
        "id": "ne-dj7hTuvwN"
      },
      "source": [
        "### テスト用手書きデータをダウンロード"
      ]
    },
    {
      "cell_type": "code",
      "metadata": {
        "id": "fo3xqK0UGHs9",
        "colab": {
          "base_uri": "https://localhost:8080/"
        },
        "outputId": "bfd0fcfe-e6fa-44b5-d57c-a9653b54ed7b"
      },
      "source": [
        "# ライブラリをimport\n",
        "import urllib.request as req\n",
        "# url文字列\n",
        "url_2 = \"https://raw.githubusercontent.com/masatokg/sample_photo/master/my2.png\"\n",
        "url_4 = \"https://raw.githubusercontent.com/masatokg/sample_photo/master/my4.png\"\n",
        "url_9 = \"https://raw.githubusercontent.com/masatokg/sample_photo/master/my9.png\"\n",
        "url_kuga8 = \"https://raw.githubusercontent.com/masatokg/sample_photo/master/kuga8.png\"\n",
        "url_kuga88 = \"https://raw.githubusercontent.com/masatokg/sample_photo/master/kuga88.png\"\n",
        "\n",
        "# ダウンロードして保存\n",
        "req.urlretrieve(url_2, \"my2.png\")\n",
        "req.urlretrieve(url_4, \"my4.png\")\n",
        "req.urlretrieve(url_9, \"my9.png\")\n",
        "req.urlretrieve(url_kuga8, \"kuga8.png\")\n",
        "req.urlretrieve(url_kuga88, \"kuga88.png\")"
      ],
      "execution_count": 72,
      "outputs": [
        {
          "output_type": "execute_result",
          "data": {
            "text/plain": [
              "('kuga88.png', <http.client.HTTPMessage at 0x7ff424908748>)"
            ]
          },
          "metadata": {
            "tags": []
          },
          "execution_count": 72
        }
      ]
    },
    {
      "cell_type": "markdown",
      "metadata": {
        "id": "ZNhZQWApvlRf"
      },
      "source": [
        "### 手書き文字のファイルを判定する関数を定義"
      ]
    },
    {
      "cell_type": "code",
      "metadata": {
        "id": "iikDMB-NveM4"
      },
      "source": [
        "def predict_digit(filename):\n",
        "  # 学習済みモデルのファイルを読み込む(バイナリ読み込みモード:rb, fpはファイルポインタ)\n",
        "  with open('digits.pkl', \"rb\") as fp:\n",
        "    # ピクセルから読み込む\n",
        "    clf = pickle.load(fp)\n",
        "  # 引き渡されたファイル名のファイルをプロgラムに読み込む\n",
        "  my_img = cv2.imread(filename)\n",
        "\n",
        "  # 読み込んだ画像を白黒化\n",
        "  my_img = cv2.cvtColor(my_img, cv2.COLOR_BGR2GRAY)\n",
        "  # 読み込んだ画像を表示\n",
        "  plt.imshow(cv2.cvtColor(my_img, cv2.COLOR_BGR2RGB))\n",
        "  plt.show()\n",
        "\n",
        "  # 画像データを学習データと比較するために同じ8*8サイズにする\n",
        "  my_img = cv2.resize(my_img, (8,8)) # 8,8のタプルでサイズを指定\n",
        "  print(\"縮小した画像を表示\")\n",
        "  plt.imshow( cv2.cvtColor(my_img, cv2.COLOR_BGR2RGB))\n",
        "  plt.show()\n",
        "\n",
        "  # 色調変換, 元画像は256(0~255)段階なので、17(0~16)段階に変換する\n",
        "  max_val = 16 # 色調最大値\n",
        "  divisions = max_val + 1 # 色調段階数\n",
        "  print(\"文字画像の元の色情報を表示\", my_img)\n",
        "  # 色情報を0~16段階にする\n",
        "  my_img = my_img // divisions\n",
        "  print(divisions, \"段階にしたimg情報\", my_img)\n",
        "  # MAX値からの距離で色情報を反転させる(学習したデータセットが黒字に白色)\n",
        "  my_img = (max_val - my_img)\n",
        "  print(\"白黒値を反転させたimg情報\", my_img)\n",
        "\n",
        "  # 判定のため、2次元配列(-1, 64)の形に変換する\n",
        "  my_img = my_img.reshape(-1, 64)\n",
        "  # 判定する\n",
        "  res = clf.predict(my_img)\n",
        "  # 推論結果resは引数の分だけの配列\n",
        "  # 今回引数は1文字だけなので戦闘要素が推論結果\n",
        "  print(\"resの中身 \", res)\n",
        "  return res[0] # 先頭を返す"
      ],
      "execution_count": 73,
      "outputs": []
    },
    {
      "cell_type": "markdown",
      "metadata": {
        "id": "7t_GdMRoyYxG"
      },
      "source": [
        "### 自作関数predict_digitを呼び出して実行してみる"
      ]
    },
    {
      "cell_type": "code",
      "metadata": {
        "colab": {
          "base_uri": "https://localhost:8080/",
          "height": 976
        },
        "id": "urjeMPaTyXMo",
        "outputId": "269cd985-b120-4062-afbc-8a33bc40c3d9"
      },
      "source": [
        "n = predict_digit(\"my2.png\") # 保存したファイル名を引き渡す\n",
        "print(\"推論結果：my2.png = \", str(n))"
      ],
      "execution_count": 74,
      "outputs": [
        {
          "output_type": "display_data",
          "data": {
            "image/png": "[encoded data removed]",
            "text/plain": [
              "<Figure size 432x288 with 1 Axes>"
            ]
          },
          "metadata": {
            "tags": [],
            "needs_background": "light"
          }
        },
        {
          "output_type": "stream",
          "text": [
            "縮小した画像を表示\n"
          ],
          "name": "stdout"
        },
        {
          "output_type": "display_data",
          "data": {
            "image/png": "[encoded data removed]",
            "text/plain": [
              "<Figure size 432x288 with 1 Axes>"
            ]
          },
          "metadata": {
            "tags": [],
            "needs_background": "light"
          }
        },
        {
          "output_type": "stream",
          "text": [
            "文字画像の元の色情報を表示 [[255 255 255 255 255 255 255 255]\n",
            " [255 255   0   0   0 255 255 255]\n",
            " [255 255 255 255 255   0 255 255]\n",
            " [255 255 255 255 255   0 255 255]\n",
            " [255 255 255 255   0 255 255 255]\n",
            " [255 255   0   0 255 255 255 255]\n",
            " [255   0   0   0   0   0   0 255]\n",
            " [255 255 255 255 255 255 255 255]]\n",
            "17 段階にしたimg情報 [[15 15 15 15 15 15 15 15]\n",
            " [15 15  0  0  0 15 15 15]\n",
            " [15 15 15 15 15  0 15 15]\n",
            " [15 15 15 15 15  0 15 15]\n",
            " [15 15 15 15  0 15 15 15]\n",
            " [15 15  0  0 15 15 15 15]\n",
            " [15  0  0  0  0  0  0 15]\n",
            " [15 15 15 15 15 15 15 15]]\n",
            "白黒値を反転させたimg情報 [[ 1  1  1  1  1  1  1  1]\n",
            " [ 1  1 16 16 16  1  1  1]\n",
            " [ 1  1  1  1  1 16  1  1]\n",
            " [ 1  1  1  1  1 16  1  1]\n",
            " [ 1  1  1  1 16  1  1  1]\n",
            " [ 1  1 16 16  1  1  1  1]\n",
            " [ 1 16 16 16 16 16 16  1]\n",
            " [ 1  1  1  1  1  1  1  1]]\n",
            "resの中身  [2]\n",
            "推論結果：my2.png =  2\n"
          ],
          "name": "stdout"
        }
      ]
    },
    {
      "cell_type": "markdown",
      "metadata": {
        "id": "E0QUoDAfz7Xo"
      },
      "source": [
        "### 他の画像もどんどん判定する\n"
      ]
    },
    {
      "cell_type": "code",
      "metadata": {
        "colab": {
          "base_uri": "https://localhost:8080/",
          "height": 1000
        },
        "id": "Ri7Outykypl-",
        "outputId": "07c6de9f-0301-45a8-a892-313fb77ce32b"
      },
      "source": [
        "n = predict_digit(\"my4.png\")\n",
        "print(\"推論結果：my4.png = \", str(n))\n",
        "n = predict_digit(\"my9.png\")\n",
        "print(\"推論結果：my9.png = \", str(n))\n",
        "# 久家の手書き\n",
        "n = predict_digit(\"kuga8.png\")\n",
        "print(\"推論結果：kuga8.png = \", str(n))\n",
        "n = predict_digit(\"kuga88.png\")\n",
        "print(\"推論結果：kuga88.png = \", str(n))"
      ],
      "execution_count": 75,
      "outputs": [
        {
          "output_type": "display_data",
          "data": {
            "image/png": "[encoded data removed]",
            "text/plain": [
              "<Figure size 432x288 with 1 Axes>"
            ]
          },
          "metadata": {
            "tags": [],
            "needs_background": "light"
          }
        },
        {
          "output_type": "stream",
          "text": [
            "縮小した画像を表示\n"
          ],
          "name": "stdout"
        },
        {
          "output_type": "display_data",
          "data": {
            "image/png": "[encoded data removed]",
            "text/plain": [
              "<Figure size 432x288 with 1 Axes>"
            ]
          },
          "metadata": {
            "tags": [],
            "needs_background": "light"
          }
        },
        {
          "output_type": "stream",
          "text": [
            "文字画像の元の色情報を表示 [[255 255 255 255 255 255 255 255]\n",
            " [255 255 255 255 255 255 255 255]\n",
            " [255 255   0 255 255 255 255 255]\n",
            " [255 255 255 255 255 255 255 255]\n",
            " [255   0 255 255 255 255 255 255]\n",
            " [255   0   0   0   0  54 255 255]\n",
            " [255 255 255 255 255 255 255 255]\n",
            " [255 255 255 255 255 255 255 255]]\n",
            "17 段階にしたimg情報 [[15 15 15 15 15 15 15 15]\n",
            " [15 15 15 15 15 15 15 15]\n",
            " [15 15  0 15 15 15 15 15]\n",
            " [15 15 15 15 15 15 15 15]\n",
            " [15  0 15 15 15 15 15 15]\n",
            " [15  0  0  0  0  3 15 15]\n",
            " [15 15 15 15 15 15 15 15]\n",
            " [15 15 15 15 15 15 15 15]]\n",
            "白黒値を反転させたimg情報 [[ 1  1  1  1  1  1  1  1]\n",
            " [ 1  1  1  1  1  1  1  1]\n",
            " [ 1  1 16  1  1  1  1  1]\n",
            " [ 1  1  1  1  1  1  1  1]\n",
            " [ 1 16  1  1  1  1  1  1]\n",
            " [ 1 16 16 16 16 13  1  1]\n",
            " [ 1  1  1  1  1  1  1  1]\n",
            " [ 1  1  1  1  1  1  1  1]]\n",
            "resの中身  [4]\n",
            "推論結果：my4.png =  4\n"
          ],
          "name": "stdout"
        },
        {
          "output_type": "display_data",
          "data": {
            "image/png": "[encoded data removed]",
            "text/plain": [
              "<Figure size 432x288 with 1 Axes>"
            ]
          },
          "metadata": {
            "tags": [],
            "needs_background": "light"
          }
        },
        {
          "output_type": "stream",
          "text": [
            "縮小した画像を表示\n"
          ],
          "name": "stdout"
        },
        {
          "output_type": "display_data",
          "data": {
            "image/png": "[encoded data removed]",
            "text/plain": [
              "<Figure size 432x288 with 1 Axes>"
            ]
          },
          "metadata": {
            "tags": [],
            "needs_background": "light"
          }
        },
        {
          "output_type": "stream",
          "text": [
            "文字画像の元の色情報を表示 [[255 255 255 255 255 255 255 255]\n",
            " [255 255   7 255 255   0 255 255]\n",
            " [255 255   0 255 255   0 255 255]\n",
            " [255 255 255   0   0 255 255 255]\n",
            " [255 255 255 255   0 255 255 255]\n",
            " [255 255 255 255   0 255 255 255]\n",
            " [255 255 255 255 255 255 255 255]\n",
            " [255 255 255 255 255 255 255 255]]\n",
            "17 段階にしたimg情報 [[15 15 15 15 15 15 15 15]\n",
            " [15 15  0 15 15  0 15 15]\n",
            " [15 15  0 15 15  0 15 15]\n",
            " [15 15 15  0  0 15 15 15]\n",
            " [15 15 15 15  0 15 15 15]\n",
            " [15 15 15 15  0 15 15 15]\n",
            " [15 15 15 15 15 15 15 15]\n",
            " [15 15 15 15 15 15 15 15]]\n",
            "白黒値を反転させたimg情報 [[ 1  1  1  1  1  1  1  1]\n",
            " [ 1  1 16  1  1 16  1  1]\n",
            " [ 1  1 16  1  1 16  1  1]\n",
            " [ 1  1  1 16 16  1  1  1]\n",
            " [ 1  1  1  1 16  1  1  1]\n",
            " [ 1  1  1  1 16  1  1  1]\n",
            " [ 1  1  1  1  1  1  1  1]\n",
            " [ 1  1  1  1  1  1  1  1]]\n",
            "resの中身  [9]\n",
            "推論結果：my9.png =  9\n"
          ],
          "name": "stdout"
        },
        {
          "output_type": "display_data",
          "data": {
            "image/png": "[encoded data removed]",
            "text/plain": [
              "<Figure size 432x288 with 1 Axes>"
            ]
          },
          "metadata": {
            "tags": [],
            "needs_background": "light"
          }
        },
        {
          "output_type": "stream",
          "text": [
            "縮小した画像を表示\n"
          ],
          "name": "stdout"
        },
        {
          "output_type": "display_data",
          "data": {
            "image/png": "[encoded data removed]",
            "text/plain": [
              "<Figure size 432x288 with 1 Axes>"
            ]
          },
          "metadata": {
            "tags": [],
            "needs_background": "light"
          }
        },
        {
          "output_type": "stream",
          "text": [
            "文字画像の元の色情報を表示 [[255 255 255 255 255 255 255 255]\n",
            " [255 255 108  84 255 255 255 255]\n",
            " [255 255 255 255 255 255 255 255]\n",
            " [255 255 255  84 230 255 255 255]\n",
            " [255 255 245 255 255 255 255 255]\n",
            " [255 255 255 255 255 255 255 255]\n",
            " [255 255 255 255 255 255 255 255]\n",
            " [255 255 255 255 255 255 255 255]]\n",
            "17 段階にしたimg情報 [[15 15 15 15 15 15 15 15]\n",
            " [15 15  6  4 15 15 15 15]\n",
            " [15 15 15 15 15 15 15 15]\n",
            " [15 15 15  4 13 15 15 15]\n",
            " [15 15 14 15 15 15 15 15]\n",
            " [15 15 15 15 15 15 15 15]\n",
            " [15 15 15 15 15 15 15 15]\n",
            " [15 15 15 15 15 15 15 15]]\n",
            "白黒値を反転させたimg情報 [[ 1  1  1  1  1  1  1  1]\n",
            " [ 1  1 10 12  1  1  1  1]\n",
            " [ 1  1  1  1  1  1  1  1]\n",
            " [ 1  1  1 12  3  1  1  1]\n",
            " [ 1  1  2  1  1  1  1  1]\n",
            " [ 1  1  1  1  1  1  1  1]\n",
            " [ 1  1  1  1  1  1  1  1]\n",
            " [ 1  1  1  1  1  1  1  1]]\n",
            "resの中身  [4]\n",
            "推論結果：kuga8.png =  4\n"
          ],
          "name": "stdout"
        },
        {
          "output_type": "display_data",
          "data": {
            "image/png": "[encoded data removed]",
            "text/plain": [
              "<Figure size 432x288 with 1 Axes>"
            ]
          },
          "metadata": {
            "tags": [],
            "needs_background": "light"
          }
        },
        {
          "output_type": "stream",
          "text": [
            "縮小した画像を表示\n"
          ],
          "name": "stdout"
        },
        {
          "output_type": "display_data",
          "data": {
            "image/png": "[encoded data removed]",
            "text/plain": [
              "<Figure size 432x288 with 1 Axes>"
            ]
          },
          "metadata": {
            "tags": [],
            "needs_background": "light"
          }
        },
        {
          "output_type": "stream",
          "text": [
            "文字画像の元の色情報を表示 [[255 255 255 255 255 255 255 255]\n",
            " [255 255 255  84  84 255 255 255]\n",
            " [255 255 255 255 255 255 255 255]\n",
            " [255 255 255  84  84 255 255 255]\n",
            " [255 255 255  84 255 255 255 255]\n",
            " [255 255  84 255 255  84 255 255]\n",
            " [255 255 255 255 255 255 255 255]\n",
            " [255 255 255 255 255 255 255 255]]\n",
            "17 段階にしたimg情報 [[15 15 15 15 15 15 15 15]\n",
            " [15 15 15  4  4 15 15 15]\n",
            " [15 15 15 15 15 15 15 15]\n",
            " [15 15 15  4  4 15 15 15]\n",
            " [15 15 15  4 15 15 15 15]\n",
            " [15 15  4 15 15  4 15 15]\n",
            " [15 15 15 15 15 15 15 15]\n",
            " [15 15 15 15 15 15 15 15]]\n",
            "白黒値を反転させたimg情報 [[ 1  1  1  1  1  1  1  1]\n",
            " [ 1  1  1 12 12  1  1  1]\n",
            " [ 1  1  1  1  1  1  1  1]\n",
            " [ 1  1  1 12 12  1  1  1]\n",
            " [ 1  1  1 12  1  1  1  1]\n",
            " [ 1  1 12  1  1 12  1  1]\n",
            " [ 1  1  1  1  1  1  1  1]\n",
            " [ 1  1  1  1  1  1  1  1]]\n",
            "resの中身  [8]\n",
            "推論結果：kuga88.png =  8\n"
          ],
          "name": "stdout"
        }
      ]
    }
  ]
}