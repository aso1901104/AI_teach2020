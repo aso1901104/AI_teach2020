{
  "nbformat": 4,
  "nbformat_minor": 0,
  "metadata": {
    "colab": {
      "name": "20201009AI0205-selectAlgo.ipynb",
      "provenance": [],
      "collapsed_sections": [],
      "authorship_tag": "ABX9TyOxbZYY1JmZXs3q7gyeErUJ",
      "include_colab_link": true
    },
    "kernelspec": {
      "name": "python3",
      "display_name": "Python 3"
    }
  },
  "cells": [
    {
      "cell_type": "markdown",
      "metadata": {
        "id": "view-in-github",
        "colab_type": "text"
      },
      "source": [
        "<a href=\"https://colab.research.google.com/github/aso1901104/AI_teach2020/blob/master/20201009AI0205_selectAlgo.ipynb\" target=\"_parent\"><img src=\"https://colab.research.google.com/assets/colab-badge.svg\" alt=\"Open In Colab\"/></a>"
      ]
    },
    {
      "cell_type": "markdown",
      "metadata": {
        "id": "pf-XubhN4tCd"
      },
      "source": [
        "## sklearnでエラーが出るので、前のバージョンを入れ直す(0.22を消して0.20を入れる)"
      ]
    },
    {
      "cell_type": "code",
      "metadata": {
        "id": "KfAdDAMC4xm-"
      },
      "source": [
        "# # 現在のsckit-learnをcolabのVMからアンインストール\n",
        "# !pip uninstall scikit-learn\n",
        "# # 前のバージョンを指定してVMにインストール\n",
        "# !pip install scikit-learn==0.20 --ignore-installed"
      ],
      "execution_count": 2,
      "outputs": []
    },
    {
      "cell_type": "markdown",
      "metadata": {
        "id": "EIignHbTwlfE"
      },
      "source": [
        "## all_estimators()でループして各種のアルゴリズムで学習してさせ、比較する"
      ]
    },
    {
      "cell_type": "code",
      "metadata": {
        "id": "ChcsvCTfq6VV",
        "outputId": "8140c54e-8fd1-48fd-eb03-fadb48e4f674",
        "colab": {
          "base_uri": "https://localhost:8080/"
        }
      },
      "source": [
        "# ライブラリの読込\n",
        "import pandas as pd\n",
        "# 学習用データとテスト検証用データを分割するライブラリ\n",
        "from sklearn.model_selection import train_test_split\n",
        "# 正解率を産出するライブラリ\n",
        "from sklearn.metrics import accuracy_score\n",
        "# all_estimators(推定器の全てを利用できるようにする)\n",
        "from sklearn.utils.testing import all_estimators\n",
        "# 警告クラス\n",
        "import warnings"
      ],
      "execution_count": 3,
      "outputs": [
        {
          "output_type": "stream",
          "text": [
            "/usr/local/lib/python3.6/dist-packages/sklearn/utils/deprecation.py:144: FutureWarning: The sklearn.utils.testing module is  deprecated in version 0.22 and will be removed in version 0.24. The corresponding classes / functions should instead be imported from sklearn.utils. Anything that cannot be imported from sklearn.utils is now part of the private API.\n",
            "  warnings.warn(message, FutureWarning)\n"
          ],
          "name": "stderr"
        }
      ]
    },
    {
      "cell_type": "markdown",
      "metadata": {
        "id": "NUVFz-M-zzQw"
      },
      "source": [
        "### webからアヤメのデータを読み込む\n"
      ]
    },
    {
      "cell_type": "code",
      "metadata": {
        "id": "9PlCvkLzzn4r",
        "outputId": "37f05c19-ac18-4a8b-b994-c9f10b3b6c81",
        "colab": {
          "base_uri": "https://localhost:8080/",
          "height": 204
        }
      },
      "source": [
        "# urlリンクから読み込むライブラリ\n",
        "import urllib.request as req\n",
        "# url用の文字列変数を定義\n",
        "url = \"https://raw.githubusercontent.com/pandas-dev/pandas/master/pandas/tests/io/data/csv/iris.csv\"\n",
        "# リンクから保存するためのフィアルを定義\n",
        "savefile = \"iris.csv\"\n",
        "# requestクラスを使ってurlからデータをsavefileへ保存\n",
        "req.urlretrieve(url, savefile)\n",
        "# pandasのread_csvメソッドを使ってCSVファイルを読み込む\n",
        "iris_data = pd.read_csv(savefile, encoding=\"utf-8\")\n",
        "iris_data.head()"
      ],
      "execution_count": 4,
      "outputs": [
        {
          "output_type": "execute_result",
          "data": {
            "text/html": [
              "<div>\n",
              "<style scoped>\n",
              "    .dataframe tbody tr th:only-of-type {\n",
              "        vertical-align: middle;\n",
              "    }\n",
              "\n",
              "    .dataframe tbody tr th {\n",
              "        vertical-align: top;\n",
              "    }\n",
              "\n",
              "    .dataframe thead th {\n",
              "        text-align: right;\n",
              "    }\n",
              "</style>\n",
              "<table border=\"1\" class=\"dataframe\">\n",
              "  <thead>\n",
              "    <tr style=\"text-align: right;\">\n",
              "      <th></th>\n",
              "      <th>SepalLength</th>\n",
              "      <th>SepalWidth</th>\n",
              "      <th>PetalLength</th>\n",
              "      <th>PetalWidth</th>\n",
              "      <th>Name</th>\n",
              "    </tr>\n",
              "  </thead>\n",
              "  <tbody>\n",
              "    <tr>\n",
              "      <th>0</th>\n",
              "      <td>5.1</td>\n",
              "      <td>3.5</td>\n",
              "      <td>1.4</td>\n",
              "      <td>0.2</td>\n",
              "      <td>Iris-setosa</td>\n",
              "    </tr>\n",
              "    <tr>\n",
              "      <th>1</th>\n",
              "      <td>4.9</td>\n",
              "      <td>3.0</td>\n",
              "      <td>1.4</td>\n",
              "      <td>0.2</td>\n",
              "      <td>Iris-setosa</td>\n",
              "    </tr>\n",
              "    <tr>\n",
              "      <th>2</th>\n",
              "      <td>4.7</td>\n",
              "      <td>3.2</td>\n",
              "      <td>1.3</td>\n",
              "      <td>0.2</td>\n",
              "      <td>Iris-setosa</td>\n",
              "    </tr>\n",
              "    <tr>\n",
              "      <th>3</th>\n",
              "      <td>4.6</td>\n",
              "      <td>3.1</td>\n",
              "      <td>1.5</td>\n",
              "      <td>0.2</td>\n",
              "      <td>Iris-setosa</td>\n",
              "    </tr>\n",
              "    <tr>\n",
              "      <th>4</th>\n",
              "      <td>5.0</td>\n",
              "      <td>3.6</td>\n",
              "      <td>1.4</td>\n",
              "      <td>0.2</td>\n",
              "      <td>Iris-setosa</td>\n",
              "    </tr>\n",
              "  </tbody>\n",
              "</table>\n",
              "</div>"
            ],
            "text/plain": [
              "   SepalLength  SepalWidth  PetalLength  PetalWidth         Name\n",
              "0          5.1         3.5          1.4         0.2  Iris-setosa\n",
              "1          4.9         3.0          1.4         0.2  Iris-setosa\n",
              "2          4.7         3.2          1.3         0.2  Iris-setosa\n",
              "3          4.6         3.1          1.5         0.2  Iris-setosa\n",
              "4          5.0         3.6          1.4         0.2  Iris-setosa"
            ]
          },
          "metadata": {
            "tags": []
          },
          "execution_count": 4
        }
      ]
    },
    {
      "cell_type": "markdown",
      "metadata": {
        "id": "nukT7S_f061D"
      },
      "source": [
        "### アヤメデータを目的変数:y（ラベル）と説明変数:x(入力データ)に分離する"
      ]
    },
    {
      "cell_type": "code",
      "metadata": {
        "id": "4LSGeCRn02EY",
        "outputId": "db01d030-a9cc-4b9f-a8fd-3ac1597e4523",
        "colab": {
          "base_uri": "https://localhost:8080/"
        }
      },
      "source": [
        "y = iris_data.loc[:, \"Name\"] # 目的変数\n",
        "x = iris_data.loc[:, [\"SepalLength\", \"SepalWidth\", \"PetalLength\", \"PetalWidth\"] ] # 説明変数\n",
        "print(y.head())\n",
        "print(x.head())"
      ],
      "execution_count": 5,
      "outputs": [
        {
          "output_type": "stream",
          "text": [
            "0    Iris-setosa\n",
            "1    Iris-setosa\n",
            "2    Iris-setosa\n",
            "3    Iris-setosa\n",
            "4    Iris-setosa\n",
            "Name: Name, dtype: object\n",
            "   SepalLength  SepalWidth  PetalLength  PetalWidth\n",
            "0          5.1         3.5          1.4         0.2\n",
            "1          4.9         3.0          1.4         0.2\n",
            "2          4.7         3.2          1.3         0.2\n",
            "3          4.6         3.1          1.5         0.2\n",
            "4          5.0         3.6          1.4         0.2\n"
          ],
          "name": "stdout"
        }
      ]
    },
    {
      "cell_type": "markdown",
      "metadata": {
        "id": "rwpnygma1ise"
      },
      "source": [
        "### アヤメデータをさらに学習用とテスト検証用に分離する"
      ]
    },
    {
      "cell_type": "code",
      "metadata": {
        "id": "RJmdBrz01fYw",
        "outputId": "d75dd56e-f093-42f0-bd25-95e95fe184a9",
        "colab": {
          "base_uri": "https://localhost:8080/"
        }
      },
      "source": [
        "# 学習用データ(train)とテスト検証用データ(test)に分離\n",
        "x_train, x_test, y_train, y_test = train_test_split(x, y, test_size=0.2, train_size=0.8, shuffle=True)\n",
        "print(x_train.head())\n",
        "print(x_test.head())\n",
        "print(y_train.head())\n",
        "print(y_test.head())"
      ],
      "execution_count": 6,
      "outputs": [
        {
          "output_type": "stream",
          "text": [
            "     SepalLength  SepalWidth  PetalLength  PetalWidth\n",
            "149          5.9         3.0          5.1         1.8\n",
            "55           5.7         2.8          4.5         1.3\n",
            "101          5.8         2.7          5.1         1.9\n",
            "38           4.4         3.0          1.3         0.2\n",
            "143          6.8         3.2          5.9         2.3\n",
            "    SepalLength  SepalWidth  PetalLength  PetalWidth\n",
            "2           4.7         3.2          1.3         0.2\n",
            "88          5.6         3.0          4.1         1.3\n",
            "49          5.0         3.3          1.4         0.2\n",
            "43          5.0         3.5          1.6         0.6\n",
            "0           5.1         3.5          1.4         0.2\n",
            "149     Iris-virginica\n",
            "55     Iris-versicolor\n",
            "101     Iris-virginica\n",
            "38         Iris-setosa\n",
            "143     Iris-virginica\n",
            "Name: Name, dtype: object\n",
            "2         Iris-setosa\n",
            "88    Iris-versicolor\n",
            "49        Iris-setosa\n",
            "43        Iris-setosa\n",
            "0         Iris-setosa\n",
            "Name: Name, dtype: object\n"
          ],
          "name": "stdout"
        }
      ]
    },
    {
      "cell_type": "markdown",
      "metadata": {
        "id": "r59ZsvDt2Zal"
      },
      "source": [
        "### allAlgolithmsにclassifierを指定して「分類」でフィルターしたアルゴリズムの推定器を取得する"
      ]
    },
    {
      "cell_type": "code",
      "metadata": {
        "id": "vQnLMjPa13Um",
        "outputId": "f9fc497e-ad54-403f-c0af-9939bd63a7db",
        "colab": {
          "base_uri": "https://localhost:8080/"
        }
      },
      "source": [
        "# 推定器のリストをフィルター指定して取得\n",
        "allAlgorithms = all_estimators(type_filter=\"classifier\")\n",
        "# ワーニングを無視する\n",
        "warnings.filterwarnings(\"ignore\")"
      ],
      "execution_count": 7,
      "outputs": [
        {
          "output_type": "stream",
          "text": [
            "/usr/local/lib/python3.6/dist-packages/sklearn/externals/joblib/__init__.py:15: FutureWarning: sklearn.externals.joblib is deprecated in 0.21 and will be removed in 0.23. Please import this functionality directly from joblib, which can be installed with: pip install joblib. If this warning is raised when loading pickled models, you may need to re-serialize those models with scikit-learn 0.21+.\n",
            "  warnings.warn(msg, category=FutureWarning)\n"
          ],
          "name": "stderr"
        }
      ]
    },
    {
      "cell_type": "markdown",
      "metadata": {
        "id": "v6eUPmHt3AYf"
      },
      "source": [
        "### 推定器のリストをループしながら学習＆推論させる"
      ]
    },
    {
      "cell_type": "markdown",
      "metadata": {
        "id": "yUpwvjqM-o9F"
      },
      "source": [
        "### sklearnでエラーが出る"
      ]
    },
    {
      "cell_type": "code",
      "metadata": {
        "id": "4gw73bR9203J",
        "outputId": "58ad7462-fdad-491c-f834-a739af1ff6fe",
        "colab": {
          "base_uri": "https://localhost:8080/"
        }
      },
      "source": [
        "# 推定器のリストをループ\n",
        "for (name, algorithm) in allAlgorithms:\n",
        "  # pythonでのtry-catch(try-except)\n",
        "  try: # pythonのtry\n",
        "    # 各アルゴリズムのオブジェクトを生成\n",
        "    clf = algorithm() # 各アルゴリズムのクラスのコンストラクタを実行\n",
        "    # 学習させる(fitメソッド)\n",
        "    clf.fit(x_train, y_train)\n",
        "    # 推論する\n",
        "    y_pred = clf.predict(x_test)\n",
        "    # accuracy_scoreで正解率を産出して表示\n",
        "    print(name, \"の正解率 = \", accuracy_score(y_test, y_pred))\n",
        "  except Exception as e: #pythonのcatch(except)\n",
        "    print(\"\\033[31m\" , \" Error: \\033[0m\", name, \":\" , e.args)\n",
        "    # print(\"エラーです\")\n",
        "  else:\n",
        "    # print(\"エラー以外\")\n",
        "    pass\n",
        "# for終了"
      ],
      "execution_count": 8,
      "outputs": [
        {
          "output_type": "stream",
          "text": [
            "AdaBoostClassifier の正解率 =  0.9333333333333333\n",
            "BaggingClassifier の正解率 =  0.9666666666666667\n",
            "BernoulliNB の正解率 =  0.2\n",
            "CalibratedClassifierCV の正解率 =  0.9333333333333333\n",
            "CategoricalNB の正解率 =  0.9333333333333333\n",
            "\u001b[31m  Error: \u001b[0m CheckingClassifier : (\"could not convert string to float: 'Iris-virginica'\",)\n",
            "\u001b[31m  Error: \u001b[0m ClassifierChain : (\"__init__() missing 1 required positional argument: 'base_estimator'\",)\n",
            "ComplementNB の正解率 =  0.6333333333333333\n",
            "DecisionTreeClassifier の正解率 =  0.9666666666666667\n",
            "DummyClassifier の正解率 =  0.23333333333333334\n",
            "ExtraTreeClassifier の正解率 =  1.0\n",
            "ExtraTreesClassifier の正解率 =  0.9666666666666667\n",
            "GaussianNB の正解率 =  1.0\n",
            "GaussianProcessClassifier の正解率 =  0.9666666666666667\n",
            "GradientBoostingClassifier の正解率 =  0.9666666666666667\n",
            "HistGradientBoostingClassifier の正解率 =  0.9666666666666667\n",
            "KNeighborsClassifier の正解率 =  0.9666666666666667\n",
            "LabelPropagation の正解率 =  0.9666666666666667\n",
            "LabelSpreading の正解率 =  0.9666666666666667\n",
            "LinearDiscriminantAnalysis の正解率 =  0.9666666666666667\n",
            "LinearSVC の正解率 =  0.9666666666666667\n",
            "LogisticRegression の正解率 =  0.9666666666666667\n",
            "LogisticRegressionCV の正解率 =  0.9666666666666667\n",
            "MLPClassifier の正解率 =  0.9666666666666667\n",
            "\u001b[31m  Error: \u001b[0m MultiOutputClassifier : (\"__init__() missing 1 required positional argument: 'estimator'\",)\n",
            "MultinomialNB の正解率 =  0.7333333333333333\n",
            "NearestCentroid の正解率 =  0.9\n",
            "NuSVC の正解率 =  0.9666666666666667\n",
            "\u001b[31m  Error: \u001b[0m OneVsOneClassifier : (\"__init__() missing 1 required positional argument: 'estimator'\",)\n",
            "\u001b[31m  Error: \u001b[0m OneVsRestClassifier : (\"__init__() missing 1 required positional argument: 'estimator'\",)\n",
            "\u001b[31m  Error: \u001b[0m OutputCodeClassifier : (\"__init__() missing 1 required positional argument: 'estimator'\",)\n",
            "PassiveAggressiveClassifier の正解率 =  0.6666666666666666\n",
            "Perceptron の正解率 =  0.9333333333333333\n",
            "QuadraticDiscriminantAnalysis の正解率 =  0.9666666666666667\n",
            "RadiusNeighborsClassifier の正解率 =  0.9333333333333333\n",
            "RandomForestClassifier の正解率 =  0.9666666666666667\n",
            "RidgeClassifier の正解率 =  0.7666666666666667\n",
            "RidgeClassifierCV の正解率 =  0.7666666666666667\n",
            "SGDClassifier の正解率 =  0.7666666666666667\n",
            "SVC の正解率 =  0.9666666666666667\n",
            "\u001b[31m  Error: \u001b[0m StackingClassifier : (\"__init__() missing 1 required positional argument: 'estimators'\",)\n",
            "\u001b[31m  Error: \u001b[0m VotingClassifier : (\"__init__() missing 1 required positional argument: 'estimators'\",)\n"
          ],
          "name": "stdout"
        }
      ]
    },
    {
      "cell_type": "markdown",
      "metadata": {
        "id": "kueuwZEymEDU"
      },
      "source": [
        "## クロスバリデーション "
      ]
    },
    {
      "cell_type": "markdown",
      "metadata": {
        "id": "K-DSpCfOmjJ3"
      },
      "source": [
        "### クロスバリデーション関連のライブラリのインポート"
      ]
    },
    {
      "cell_type": "code",
      "metadata": {
        "id": "pCZHniFm3OZm"
      },
      "source": [
        "# ライブラリのインポート\n",
        "# K分割クロスバリデーション(交差検証)のためのライブラリ\n",
        "from sklearn.model_selection import KFold\n",
        "# クロスバリデーションスコアを取得するためのオブジェクト\n",
        "from sklearn.model_selection import cross_val_score"
      ],
      "execution_count": 9,
      "outputs": []
    },
    {
      "cell_type": "markdown",
      "metadata": {
        "id": "0c1GI9IYnM5y"
      },
      "source": [
        "### クロスバリデーションを実行する"
      ]
    },
    {
      "cell_type": "code",
      "metadata": {
        "id": "3rARn8aomyjP",
        "outputId": "5f747f4b-4b14-4782-8d87-51eb47037ebf",
        "colab": {
          "base_uri": "https://localhost:8080/"
        }
      },
      "source": [
        "# K分割交差検証用のインスタンスを生成する\n",
        "kfold_cv = KFold( n_splits=5, shuffle=True )\n",
        "# 既に生成してあるall_estimatorsのインスタンスをループさせて、クロスバリデーションを行う\n",
        "for ( name, algorithm ) in allAlgorithms:\n",
        "  try:\n",
        "    # 各アルゴリズムのインスタンスを取得\n",
        "    clf = algorithm()\n",
        "    # scoreの属性がある学習モデルだけに絞る\n",
        "    if hasattr( clf, \"score\" ):\n",
        "      # クロスバリデーション をしてスコアを取得する\n",
        "      scores = cross_val_score( clf, x, y, cv=kfold_cv )\n",
        "      # k=n_splits=5回分のクロスバリデーション のスコアを表示\n",
        "      print(name, \"の正解率 = \")\n",
        "      print( scores )\n",
        "  except:\n",
        "    pass\n",
        "   "
      ],
      "execution_count": 10,
      "outputs": [
        {
          "output_type": "stream",
          "text": [
            "AdaBoostClassifier の正解率 = \n",
            "[0.93333333 0.96666667 0.9        0.93333333 0.93333333]\n",
            "BaggingClassifier の正解率 = \n",
            "[0.96666667 0.96666667 0.93333333 0.96666667 0.93333333]\n",
            "BernoulliNB の正解率 = \n",
            "[0.26666667 0.2        0.3        0.2        0.23333333]\n",
            "CalibratedClassifierCV の正解率 = \n",
            "[0.93333333 0.9        0.9        0.9        0.93333333]\n",
            "CategoricalNB の正解率 = \n",
            "[0.9        0.96666667 0.96666667 0.96666667 0.86666667]\n",
            "CheckingClassifier の正解率 = \n",
            "[nan nan nan nan nan]\n",
            "ComplementNB の正解率 = \n",
            "[0.66666667 0.7        0.83333333 0.6        0.53333333]\n",
            "DecisionTreeClassifier の正解率 = \n",
            "[0.96666667 0.93333333 0.93333333 0.9        1.        ]\n",
            "DummyClassifier の正解率 = \n",
            "[0.23333333 0.33333333 0.5        0.33333333 0.4       ]\n",
            "ExtraTreeClassifier の正解率 = \n",
            "[0.9        0.9        0.93333333 1.         0.96666667]\n",
            "ExtraTreesClassifier の正解率 = \n",
            "[0.9        0.96666667 0.96666667 0.93333333 1.        ]\n",
            "GaussianNB の正解率 = \n",
            "[0.96666667 1.         0.93333333 0.93333333 0.96666667]\n",
            "GaussianProcessClassifier の正解率 = \n",
            "[0.96666667 0.9        1.         0.9        0.96666667]\n",
            "GradientBoostingClassifier の正解率 = \n",
            "[0.96666667 0.93333333 0.83333333 0.96666667 0.96666667]\n",
            "HistGradientBoostingClassifier の正解率 = \n",
            "[1.         0.96666667 0.86666667 1.         0.9       ]\n",
            "KNeighborsClassifier の正解率 = \n",
            "[1.         0.96666667 0.96666667 0.96666667 0.9       ]\n",
            "LabelPropagation の正解率 = \n",
            "[1.         0.93333333 0.96666667 0.96666667 0.93333333]\n",
            "LabelSpreading の正解率 = \n",
            "[0.86666667 1.         0.93333333 1.         0.96666667]\n",
            "LinearDiscriminantAnalysis の正解率 = \n",
            "[1.         0.96666667 0.93333333 1.         1.        ]\n",
            "LinearSVC の正解率 = \n",
            "[0.93333333 0.96666667 0.96666667 0.96666667 0.96666667]\n",
            "LogisticRegression の正解率 = \n",
            "[0.96666667 0.96666667 0.96666667 0.96666667 0.93333333]\n",
            "LogisticRegressionCV の正解率 = \n",
            "[0.96666667 0.86666667 0.93333333 1.         1.        ]\n",
            "MLPClassifier の正解率 = \n",
            "[1.         0.93333333 1.         1.         0.96666667]\n",
            "MultinomialNB の正解率 = \n",
            "[0.93333333 0.96666667 0.86666667 0.9        0.8       ]\n",
            "NearestCentroid の正解率 = \n",
            "[0.93333333 0.93333333 0.9        0.9        0.93333333]\n",
            "NuSVC の正解率 = \n",
            "[0.96666667 0.96666667 0.96666667 0.96666667 0.96666667]\n",
            "PassiveAggressiveClassifier の正解率 = \n",
            "[0.53333333 0.96666667 0.76666667 0.76666667 0.93333333]\n",
            "Perceptron の正解率 = \n",
            "[0.93333333 0.46666667 0.83333333 0.93333333 0.63333333]\n",
            "QuadraticDiscriminantAnalysis の正解率 = \n",
            "[0.96666667 1.         0.9        1.         1.        ]\n",
            "RadiusNeighborsClassifier の正解率 = \n",
            "[1.         0.96666667 0.86666667 1.         0.9       ]\n",
            "RandomForestClassifier の正解率 = \n",
            "[0.96666667 0.96666667 0.93333333 0.96666667 0.96666667]\n",
            "RidgeClassifier の正解率 = \n",
            "[0.83333333 0.83333333 0.83333333 0.73333333 0.9       ]\n",
            "RidgeClassifierCV の正解率 = \n",
            "[0.76666667 0.66666667 0.9        0.93333333 0.83333333]\n",
            "SGDClassifier の正解率 = \n",
            "[0.93333333 0.63333333 0.56666667 1.         0.8       ]\n",
            "SVC の正解率 = \n",
            "[1.         0.86666667 1.         1.         0.9       ]\n"
          ],
          "name": "stdout"
        }
      ]
    },
    {
      "cell_type": "markdown",
      "metadata": {
        "id": "3iawJBA0pSu0"
      },
      "source": [
        "### おまけ：cross_val_scoreよりも、もっと詳しい結果を取得できる新しいクロスバリデーションオブジェクト：cross_validate"
      ]
    },
    {
      "cell_type": "code",
      "metadata": {
        "id": "wNYGoO3npXhd"
      },
      "source": [
        "# ライブラリのインポート\n",
        "from sklearn.model_selection import cross_validate"
      ],
      "execution_count": 11,
      "outputs": []
    },
    {
      "cell_type": "markdown",
      "metadata": {
        "id": "t054ka1JsEgs"
      },
      "source": [
        "### cross_validateを使ったクロスバリデーション "
      ]
    },
    {
      "cell_type": "code",
      "metadata": {
        "id": "XHDTjKxysCMC",
        "outputId": "35bea4ec-3d00-4570-b787-d2d3efbe24c8",
        "colab": {
          "base_uri": "https://localhost:8080/"
        }
      },
      "source": [
        "# K分割交差検証用のインスタンスを生成する\n",
        "kfold_cv = KFold( n_splits=5, shuffle=True )\n",
        "# 既に生成してあるall_estimatorsのインスタンスをループさせて、クロスバリデーションを行う\n",
        "for ( name, algorithm ) in allAlgorithms:\n",
        "  try:\n",
        "    # 各アルゴリズムのインスタンスを取得\n",
        "    clf = algorithm()\n",
        "    # scoreの属性がある学習モデルだけに絞る\n",
        "    if hasattr( clf, \"score\" ):\n",
        "      # cross_validateでクロスバリデーションをしてスコアを取得する\n",
        "      scores = cross_validate( clf, x, y, cv=kfold_cv )\n",
        "      # k=n_splits=5回分のクロスバリデーション のスコアを表示\n",
        "      print(name, \"の正解率 = \")\n",
        "      print( scores )\n",
        "  except:\n",
        "    pass\n",
        "   "
      ],
      "execution_count": 12,
      "outputs": [
        {
          "output_type": "stream",
          "text": [
            "AdaBoostClassifier の正解率 = \n",
            "{'fit_time': array([0.08899641, 0.06777072, 0.07076836, 0.06718278, 0.06666565]), 'score_time': array([0.00713682, 0.00707245, 0.00686526, 0.00687718, 0.00794649]), 'test_score': array([0.93333333, 0.96666667, 0.93333333, 1.        , 0.93333333])}\n",
            "BaggingClassifier の正解率 = \n",
            "{'fit_time': array([0.01766109, 0.01654077, 0.01561308, 0.01590371, 0.01578879]), 'score_time': array([0.00243092, 0.00235963, 0.00239062, 0.00238538, 0.00255084]), 'test_score': array([0.93333333, 0.93333333, 0.96666667, 1.        , 0.96666667])}\n",
            "BernoulliNB の正解率 = \n",
            "{'fit_time': array([0.00319862, 0.00253081, 0.00198197, 0.00189853, 0.00188637]), 'score_time': array([0.00146699, 0.00160742, 0.00099325, 0.00097132, 0.00097585]), 'test_score': array([0.3       , 0.26666667, 0.26666667, 0.13333333, 0.16666667])}\n",
            "CalibratedClassifierCV の正解率 = \n",
            "{'fit_time': array([0.05915666, 0.06139398, 0.05876446, 0.05699992, 0.06046677]), 'score_time': array([0.00200891, 0.00193787, 0.00192332, 0.00188494, 0.00239873]), 'test_score': array([0.9       , 0.93333333, 0.93333333, 0.83333333, 0.93333333])}\n",
            "CategoricalNB の正解率 = \n",
            "{'fit_time': array([0.00305057, 0.00262332, 0.00243187, 0.00245237, 0.00249004]), 'score_time': array([0.00102925, 0.00093627, 0.00092602, 0.00092888, 0.00095677]), 'test_score': array([1.        , 0.93333333, 0.9       , 0.96666667, 0.83333333])}\n",
            "CheckingClassifier の正解率 = \n",
            "{'fit_time': array([0.0008173 , 0.00072289, 0.00070691, 0.00070477, 0.00070453]), 'score_time': array([0., 0., 0., 0., 0.]), 'test_score': array([nan, nan, nan, nan, nan])}\n",
            "ComplementNB の正解率 = \n",
            "{'fit_time': array([0.00293899, 0.0026865 , 0.0025115 , 0.00266743, 0.00251269]), 'score_time': array([0.00116992, 0.00127816, 0.00139332, 0.00124335, 0.00124192]), 'test_score': array([0.56666667, 0.73333333, 0.73333333, 0.63333333, 0.66666667])}\n",
            "DecisionTreeClassifier の正解率 = \n",
            "{'fit_time': array([0.002666  , 0.00142932, 0.00142455, 0.00141454, 0.00147152]), 'score_time': array([0.00085402, 0.00081277, 0.00082469, 0.00079012, 0.00097656]), 'test_score': array([0.93333333, 0.93333333, 0.93333333, 0.93333333, 0.93333333])}\n",
            "DummyClassifier の正解率 = \n",
            "{'fit_time': array([0.00101733, 0.00096798, 0.00093317, 0.00116658, 0.00099397]), 'score_time': array([0.00058317, 0.00053334, 0.00052309, 0.00055122, 0.00072026]), 'test_score': array([0.3       , 0.3       , 0.36666667, 0.2       , 0.43333333])}\n",
            "ExtraTreeClassifier の正解率 = \n",
            "{'fit_time': array([0.00272989, 0.00140262, 0.00139141, 0.0013721 , 0.00137544]), 'score_time': array([0.00086379, 0.00080538, 0.00077629, 0.00079703, 0.00076962]), 'test_score': array([0.86666667, 0.93333333, 0.93333333, 0.96666667, 0.93333333])}\n",
            "ExtraTreesClassifier の正解率 = \n",
            "{'fit_time': array([0.08834219, 0.10741043, 0.08840299, 0.08585167, 0.0857842 ]), 'score_time': array([0.00898266, 0.00840688, 0.0085094 , 0.00833583, 0.00829577]), 'test_score': array([1.        , 0.9       , 0.96666667, 0.96666667, 0.93333333])}\n",
            "GaussianNB の正解率 = \n",
            "{'fit_time': array([0.00242043, 0.00221205, 0.00166917, 0.00164104, 0.00163269]), 'score_time': array([0.00191522, 0.00134182, 0.00093913, 0.00093746, 0.00094175]), 'test_score': array([1.        , 0.9       , 0.96666667, 0.96666667, 0.93333333])}\n",
            "GaussianProcessClassifier の正解率 = \n",
            "{'fit_time': array([0.03241134, 0.03186893, 0.03194427, 0.03173041, 0.03181124]), 'score_time': array([0.00544119, 0.00536895, 0.00543046, 0.00551248, 0.01083279]), 'test_score': array([0.96666667, 0.96666667, 0.96666667, 0.93333333, 0.96666667])}\n",
            "GradientBoostingClassifier の正解率 = \n",
            "{'fit_time': array([0.22753191, 0.19017982, 0.18650389, 0.17202926, 0.16261411]), 'score_time': array([0.00157928, 0.00192595, 0.0016253 , 0.00170326, 0.0015254 ]), 'test_score': array([1.        , 0.86666667, 0.96666667, 0.96666667, 0.93333333])}\n",
            "HistGradientBoostingClassifier の正解率 = \n",
            "{'fit_time': array([0.12210798, 0.1367538 , 0.13200212, 0.1392262 , 0.12430096]), 'score_time': array([0.0052104 , 0.00529242, 0.00537014, 0.00542164, 0.00572681]), 'test_score': array([0.93333333, 0.96666667, 0.93333333, 0.93333333, 0.9       ])}\n",
            "KNeighborsClassifier の正解率 = \n",
            "{'fit_time': array([0.0019815 , 0.00178981, 0.00172687, 0.00180531, 0.00169969]), 'score_time': array([0.00290394, 0.00272512, 0.00264192, 0.00263309, 0.00265789]), 'test_score': array([0.96666667, 0.93333333, 0.96666667, 1.        , 0.83333333])}\n",
            "LabelPropagation の正解率 = \n",
            "{'fit_time': array([0.00670075, 0.00733423, 0.007653  , 0.00478721, 0.00720286]), 'score_time': array([0.00160241, 0.00170112, 0.00414681, 0.00160313, 0.00159955]), 'test_score': array([1.        , 0.93333333, 0.9       , 0.96666667, 0.96666667])}\n",
            "LabelSpreading の正解率 = \n",
            "{'fit_time': array([0.0054369 , 0.00835037, 0.00884748, 0.00912738, 0.00830317]), 'score_time': array([0.00162959, 0.00177097, 0.0018909 , 0.00172043, 0.00168371]), 'test_score': array([1.        , 0.93333333, 0.93333333, 0.96666667, 0.96666667])}\n",
            "LinearDiscriminantAnalysis の正解率 = \n",
            "{'fit_time': array([0.0025928 , 0.00251436, 0.00257063, 0.00261307, 0.00283384]), 'score_time': array([0.00112891, 0.00112224, 0.00163865, 0.00112414, 0.00122499]), 'test_score': array([1.        , 0.96666667, 0.96666667, 1.        , 0.96666667])}\n",
            "LinearSVC の正解率 = \n",
            "{'fit_time': array([0.0183084 , 0.02621579, 0.01834273, 0.01029921, 0.01078224]), 'score_time': array([0.00152636, 0.00166154, 0.00134254, 0.00133872, 0.00129843]), 'test_score': array([0.93333333, 0.9       , 0.96666667, 0.93333333, 1.        ])}\n",
            "LogisticRegression の正解率 = \n",
            "{'fit_time': array([0.03515553, 0.03027749, 0.02437305, 0.02985477, 0.02260184]), 'score_time': array([0.00134015, 0.00133181, 0.00128627, 0.00135684, 0.00128984]), 'test_score': array([0.96666667, 0.9       , 1.        , 0.96666667, 0.93333333])}\n",
            "LogisticRegressionCV の正解率 = \n",
            "{'fit_time': array([0.95462418, 0.77474427, 0.71773219, 0.78916717, 0.73476624]), 'score_time': array([0.00120425, 0.00148177, 0.00119138, 0.00121522, 0.00119162]), 'test_score': array([1.        , 1.        , 1.        , 0.93333333, 0.96666667])}\n",
            "MLPClassifier の正解率 = \n",
            "{'fit_time': array([0.13026619, 0.15051174, 0.13051391, 0.13324499, 0.12910962]), 'score_time': array([0.00140023, 0.00136852, 0.00138903, 0.00139451, 0.00141263]), 'test_score': array([0.96666667, 1.        , 1.        , 0.96666667, 0.93333333])}\n",
            "MultinomialNB の正解率 = \n",
            "{'fit_time': array([0.00274944, 0.00290513, 0.0026772 , 0.00283337, 0.00191045]), 'score_time': array([0.00148225, 0.00139618, 0.00110245, 0.00143361, 0.00090837]), 'test_score': array([1.        , 0.73333333, 0.7       , 0.8       , 0.83333333])}\n",
            "NearestCentroid の正解率 = \n",
            "{'fit_time': array([0.00176382, 0.00174236, 0.00170183, 0.0016892 , 0.00168204]), 'score_time': array([0.00120378, 0.00117898, 0.00115752, 0.00117278, 0.00115418]), 'test_score': array([0.9       , 0.96666667, 0.76666667, 1.        , 0.96666667])}\n",
            "NuSVC の正解率 = \n",
            "{'fit_time': array([0.00291348, 0.0022037 , 0.00220776, 0.0021553 , 0.0020709 ]), 'score_time': array([0.00100684, 0.00101113, 0.00097179, 0.00097132, 0.00092816]), 'test_score': array([0.96666667, 0.96666667, 0.93333333, 1.        , 0.93333333])}\n",
            "PassiveAggressiveClassifier の正解率 = \n",
            "{'fit_time': array([0.00475073, 0.00321913, 0.00307631, 0.00364137, 0.00311732]), 'score_time': array([0.00094056, 0.00087643, 0.00087643, 0.00088429, 0.00087023]), 'test_score': array([0.76666667, 0.86666667, 1.        , 0.96666667, 0.83333333])}\n",
            "Perceptron の正解率 = \n",
            "{'fit_time': array([0.00466156, 0.00417137, 0.00307775, 0.00315619, 0.00311875]), 'score_time': array([0.00125551, 0.0009048 , 0.00089097, 0.00090289, 0.00085187]), 'test_score': array([0.73333333, 0.86666667, 0.5       , 0.76666667, 0.73333333])}\n",
            "QuadraticDiscriminantAnalysis の正解率 = \n",
            "{'fit_time': array([0.00298977, 0.0016861 , 0.00162601, 0.00161433, 0.00177741]), 'score_time': array([0.00110555, 0.0010519 , 0.00103974, 0.00105262, 0.00105762]), 'test_score': array([0.96666667, 0.96666667, 0.96666667, 0.96666667, 1.        ])}\n",
            "RadiusNeighborsClassifier の正解率 = \n",
            "{'fit_time': array([0.0019033 , 0.00142384, 0.00143957, 0.00143981, 0.00143528]), 'score_time': array([0.00235224, 0.00159931, 0.00158048, 0.00152755, 0.00156999]), 'test_score': array([0.93333333, 0.93333333, 0.93333333, 1.        , 0.93333333])}\n",
            "RandomForestClassifier の正解率 = \n",
            "{'fit_time': array([0.13276291, 0.12266755, 0.12422967, 0.13112354, 0.12801886]), 'score_time': array([0.00840402, 0.00827599, 0.00809574, 0.0081892 , 0.00909686]), 'test_score': array([0.93333333, 0.93333333, 1.        , 0.93333333, 0.93333333])}\n",
            "RidgeClassifier の正解率 = \n",
            "{'fit_time': array([0.00533724, 0.00411296, 0.00297427, 0.00295353, 0.00296426]), 'score_time': array([0.00141501, 0.00096273, 0.00094891, 0.00091624, 0.00090861]), 'test_score': array([0.86666667, 0.83333333, 0.86666667, 0.8       , 0.8       ])}\n",
            "RidgeClassifierCV の正解率 = \n",
            "{'fit_time': array([0.0059123 , 0.00322556, 0.00320697, 0.00321221, 0.00310516]), 'score_time': array([0.00105381, 0.00095153, 0.00094891, 0.00091958, 0.00091577]), 'test_score': array([0.86666667, 0.83333333, 0.86666667, 0.8       , 0.83333333])}\n",
            "SGDClassifier の正解率 = \n",
            "{'fit_time': array([0.00455213, 0.00331473, 0.00331378, 0.00318766, 0.00332618]), 'score_time': array([0.00095177, 0.00095224, 0.00090671, 0.00087905, 0.00088978]), 'test_score': array([0.9       , 0.63333333, 0.93333333, 0.7       , 0.9       ])}\n",
            "SVC の正解率 = \n",
            "{'fit_time': array([0.00252843, 0.00210166, 0.00179672, 0.00183511, 0.00188708]), 'score_time': array([0.00093532, 0.00096798, 0.00100613, 0.00094652, 0.00095487]), 'test_score': array([1.        , 0.93333333, 0.93333333, 0.93333333, 0.96666667])}\n"
          ],
          "name": "stdout"
        }
      ]
    },
    {
      "cell_type": "markdown",
      "metadata": {
        "id": "KFHxunmntRLr"
      },
      "source": [
        "## グリッドサーチで最適なパラメータを探し求める"
      ]
    },
    {
      "cell_type": "code",
      "metadata": {
        "id": "PiwujlyesnOR"
      },
      "source": [
        "#　ライブラリをインポート\n",
        "from sklearn.model_selection import GridSearchCV\n",
        "# SVCあるゴリズムの学習モデルをimport\n",
        "from sklearn.svm import SVC"
      ],
      "execution_count": 13,
      "outputs": []
    },
    {
      "cell_type": "markdown",
      "metadata": {
        "id": "P-QIm1gkt6K7"
      },
      "source": [
        "### グリッドサーチを実行してパラメータを試す"
      ]
    },
    {
      "cell_type": "code",
      "metadata": {
        "id": "5oF1Q9YCtvKI",
        "outputId": "8d55b34f-d1b9-47de-f35c-fabdeec44fd8",
        "colab": {
          "base_uri": "https://localhost:8080/"
        }
      },
      "source": [
        "# グリッドサーチで試すパラメータのパターン指定を定義する\n",
        "parameters = [\n",
        "              # 3つのパラメータ、3パターン\n",
        "              { \"C\": [1, 10, 100, 1000], \"kernel\": [\"linear\"] },\n",
        "              { \"C\": [1, 10, 100, 1000], \"kernel\": [\"rbf\"], \"gamma\": [0.001, 0.0001] },\n",
        "              { \"C\": [1, 10, 100, 1000], \"kernel\": [\"sigmoid\"], \"gamma\": [0.001, 0.0001] }\n",
        "]\n",
        "# 普通の学習\n",
        "clf_svc = SVC()\n",
        "clf_svc.fit(x_train, y_train)\n",
        "y_pred_svc = clf_svc.predict(x_test)\n",
        "print(\"普通の学習の正解率 = \", accuracy_score(y_test, y_pred_svc))\n",
        "\n",
        "# グリッドサーチを行う\n",
        "# K分割交差検証用のインスタンスを生成する\n",
        "kfold_cv = KFold( n_splits=5, shuffle=True )\n",
        "# グリッドサーチの中でK分割交差検証も行われる\n",
        "clf_gird = GridSearchCV( SVC(), parameters, cv=kfold_cv ) # インスタンス\n",
        "clf_gird.fit( x_train, y_train ) # 学習\n",
        "# 学習済みのモデルに設定された最適と思われるパラメータを表示\n",
        "print(\"最適なパラメータ　 = \", clf_gird.best_estimator_ )\n",
        "\n",
        "# 最適なパラメータで評価\n",
        "y_pred_svc = clf_gird.predict(x_test)\n",
        "print(\"グリッドサーチの正解率 = \", accuracy_score(y_test, y_pred_svc))"
      ],
      "execution_count": 14,
      "outputs": [
        {
          "output_type": "stream",
          "text": [
            "普通の学習の正解率 =  0.9666666666666667\n",
            "最適なパラメータ　 =  SVC(C=1, break_ties=False, cache_size=200, class_weight=None, coef0=0.0,\n",
            "    decision_function_shape='ovr', degree=3, gamma='scale', kernel='linear',\n",
            "    max_iter=-1, probability=False, random_state=None, shrinking=True,\n",
            "    tol=0.001, verbose=False)\n",
            "グリッドサーチの正解率 =  0.9666666666666667\n"
          ],
          "name": "stdout"
        }
      ]
    },
    {
      "cell_type": "markdown",
      "metadata": {
        "id": "qaog7vbxFD0T"
      },
      "source": [
        "## Numpyの動作確認"
      ]
    },
    {
      "cell_type": "code",
      "metadata": {
        "id": "LnHKC7TlEBx5"
      },
      "source": [
        "# numpyのインポート\n",
        "import numpy as np"
      ],
      "execution_count": 15,
      "outputs": []
    },
    {
      "cell_type": "code",
      "metadata": {
        "id": "sUn3wpoZFPpx",
        "outputId": "78a1e90a-8240-4cae-ce3c-eebea64ca245",
        "colab": {
          "base_uri": "https://localhost:8080/"
        }
      },
      "source": [
        "# numpy配列の初期化\n",
        "a = np.array( [1, 2, 3, 4, 5] ) # ndarrayというnumpy配列オブジェクトを生成\n",
        "print(a)\n",
        "# type関数で型を表示\n",
        "print(type(a))"
      ],
      "execution_count": 16,
      "outputs": [
        {
          "output_type": "stream",
          "text": [
            "[1 2 3 4 5]\n",
            "<class 'numpy.ndarray'>\n"
          ],
          "name": "stdout"
        }
      ]
    },
    {
      "cell_type": "code",
      "metadata": {
        "id": "6ORy1supFumk",
        "outputId": "d2ffa50a-7074-4297-b9af-671bc33952d4",
        "colab": {
          "base_uri": "https://localhost:8080/"
        }
      },
      "source": [
        "# 2次元のndarrayを定義\n",
        "b = np.array( [[1, 2, 3], [4, 5, 6]] )\n",
        "print(b)"
      ],
      "execution_count": 17,
      "outputs": [
        {
          "output_type": "stream",
          "text": [
            "[[1 2 3]\n",
            " [4 5 6]]\n"
          ],
          "name": "stdout"
        }
      ]
    },
    {
      "cell_type": "code",
      "metadata": {
        "id": "Wa8fMeIHF_Ku",
        "outputId": "561687b7-40f3-43f7-8b21-00ea43c7e1e1",
        "colab": {
          "base_uri": "https://localhost:8080/"
        }
      },
      "source": [
        "# 配列の要素数を指定して0埋めで初期化\n",
        "print( np.zeros(10) )\n",
        "print( np.zeros((3, 2)) )\n",
        "print( np.ones(2) )"
      ],
      "execution_count": 18,
      "outputs": [
        {
          "output_type": "stream",
          "text": [
            "[0. 0. 0. 0. 0. 0. 0. 0. 0. 0.]\n",
            "[[0. 0.]\n",
            " [0. 0.]\n",
            " [0. 0.]]\n",
            "[1. 1.]\n"
          ],
          "name": "stdout"
        }
      ]
    },
    {
      "cell_type": "code",
      "metadata": {
        "id": "lqQXjfhLGLUg",
        "outputId": "694f4130-9560-44d3-c9de-5f582767c5a4",
        "colab": {
          "base_uri": "https://localhost:8080/"
        }
      },
      "source": [
        "# 連番の配列を要素数を指定して初期化\n",
        "print( np.arange(5) )\n",
        "print( np.arange(2, 9) )\n",
        "print( np.arange(5, 8, 0.5) )"
      ],
      "execution_count": 19,
      "outputs": [
        {
          "output_type": "stream",
          "text": [
            "[0 1 2 3 4]\n",
            "[2 3 4 5 6 7 8]\n",
            "[5.  5.5 6.  6.5 7.  7.5]\n"
          ],
          "name": "stdout"
        }
      ]
    },
    {
      "cell_type": "code",
      "metadata": {
        "id": "ufbbYKDiGqQ9",
        "outputId": "70da81e9-c64c-47ba-b421-6cdbe0fb02c3",
        "colab": {
          "base_uri": "https://localhost:8080/"
        }
      },
      "source": [
        "a = np.array( [1, 2, 3, 4, 5] )\n",
        "b = a*2 # 全ての要素を一度に2倍\n",
        "print(b)\n",
        "x = np.arange(10)\n",
        "print(x)\n",
        "y = 3*x + 5 # 全ての要素に一度に四則演算\n",
        "print(y)"
      ],
      "execution_count": 20,
      "outputs": [
        {
          "output_type": "stream",
          "text": [
            "[ 2  4  6  8 10]\n",
            "[0 1 2 3 4 5 6 7 8 9]\n",
            "[ 5  8 11 14 17 20 23 26 29 32]\n"
          ],
          "name": "stdout"
        }
      ]
    },
    {
      "cell_type": "code",
      "metadata": {
        "id": "lRAVo5WVIEKF",
        "outputId": "56f4864a-506b-431e-9bc2-4f7cb3f277b5",
        "colab": {
          "base_uri": "https://localhost:8080/"
        }
      },
      "source": [
        "# 配列の次元数を表示\n",
        "a = np.array( [[1, 2, 3], [4, 5, 6]] )\n",
        "print(a)\n",
        "print(a.shape)\n",
        "\n",
        "b = np.array([[1, 2, 3], [4, 5, 6], [7, 8, 9]])\n",
        "print(b)\n",
        "print(b.shape)\n"
      ],
      "execution_count": 21,
      "outputs": [
        {
          "output_type": "stream",
          "text": [
            "[[1 2 3]\n",
            " [4 5 6]]\n",
            "(2, 3)\n",
            "[[1 2 3]\n",
            " [4 5 6]\n",
            " [7 8 9]]\n",
            "(3, 3)\n"
          ],
          "name": "stdout"
        }
      ]
    },
    {
      "cell_type": "code",
      "metadata": {
        "id": "E2ewq6OaIcH_",
        "outputId": "f4456d87-bbaf-440b-d2ae-0446436095e4",
        "colab": {
          "base_uri": "https://localhost:8080/"
        }
      },
      "source": [
        "# Numpy配列で次元数を変換する\n",
        "a = np.array( [[1, 2, 3], [4, 5, 6]] )\n",
        "print(\"a = \", a, \"\\n\")\n",
        "b = a.flatten() # フラットにする(1次元配列にする)\n",
        "print(\"b = \", b, \"\\n\")\n",
        "\n",
        "a = np.array( [[1, 2, 3], [4, 5, 6]] ) # ２行3列\n",
        "print(a, \"\\n\")\n",
        "b = a.reshape(3,2) # 3行2列に回転(変換)\n",
        "print(b)"
      ],
      "execution_count": 35,
      "outputs": [
        {
          "output_type": "stream",
          "text": [
            "a =  [[1 2 3]\n",
            " [4 5 6]] \n",
            "\n",
            "b =  [1 2 3 4 5 6] \n",
            "\n",
            "[[1 2 3]\n",
            " [4 5 6]] \n",
            "\n",
            "[[1 2]\n",
            " [3 4]\n",
            " [5 6]]\n"
          ],
          "name": "stdout"
        }
      ]
    },
    {
      "cell_type": "markdown",
      "metadata": {
        "id": "C_K9EZiBJK52"
      },
      "source": [
        "### numpyの配列にアクセスする方法"
      ]
    },
    {
      "cell_type": "code",
      "metadata": {
        "id": "rzprFTsaIqzA",
        "outputId": "61766d0e-fadc-4590-af2b-62cad1a527b2",
        "colab": {
          "base_uri": "https://localhost:8080/"
        }
      },
      "source": [
        "v = np.array( [[1, 2, 3], [4, 5, 6], [7, 8, 9]] )\n",
        "a = v[0]\n",
        "print(a, \"\\n\") # 2次元配列の0行目\n",
        "b = v[1:]\n",
        "print(b, \"\\n\") # 1行目以降\n",
        "c = v[:, 0]\n",
        "print(c) # 全ての行の0列目"
      ],
      "execution_count": 31,
      "outputs": [
        {
          "output_type": "stream",
          "text": [
            "[1 2 3] \n",
            "\n",
            "[[4 5 6]\n",
            " [7 8 9]] \n",
            "\n",
            "[1 4 7]\n"
          ],
          "name": "stdout"
        }
      ]
    }
  ]
}