{
  "nbformat": 4,
  "nbformat_minor": 0,
  "metadata": {
    "colab": {
      "name": "and.ipynb",
      "provenance": [],
      "collapsed_sections": [],
      "authorship_tag": "ABX9TyNEUps86m60HEsyCItIXuw9",
      "include_colab_link": true
    },
    "kernelspec": {
      "name": "python3",
      "display_name": "Python 3"
    }
  },
  "cells": [
    {
      "cell_type": "markdown",
      "metadata": {
        "id": "view-in-github",
        "colab_type": "text"
      },
      "source": [
        "<a href=\"https://colab.research.google.com/github/aso1901104/AI_teach2020/blob/master/and.ipynb\" target=\"_parent\"><img src=\"https://colab.research.google.com/assets/colab-badge.svg\" alt=\"Open In Colab\"/></a>"
      ]
    },
    {
      "cell_type": "markdown",
      "metadata": {
        "id": "So7w_FCtqTUu",
        "colab_type": "text"
      },
      "source": [
        "### AND演算をモデルに学ばせる(LinearSVC)"
      ]
    },
    {
      "cell_type": "code",
      "metadata": {
        "id": "qeZsk8WXp5lJ",
        "colab_type": "code",
        "colab": {}
      },
      "source": [
        "# sckit-learnを使うため、インポートする\n",
        "# 線形SVCのオブジェクト\n",
        "from sklearn.svm import LinearSVC\n",
        "#　結果を評価するためのオブジェクト\n",
        "from sklearn.metrics import accuracy_score"
      ],
      "execution_count": 2,
      "outputs": []
    },
    {
      "cell_type": "markdown",
      "metadata": {
        "id": "Oc4ByByWrVO_",
        "colab_type": "text"
      },
      "source": [
        "### 学習のためのデータを用意する"
      ]
    },
    {
      "cell_type": "code",
      "metadata": {
        "id": "zigFGAAwq1Rg",
        "colab_type": "code",
        "colab": {}
      },
      "source": [
        "# 入力値を表すデータ\n",
        "# 入力X,　入力Y\n",
        "learn_data = [ [0,0], [0,1], [1,0], [1,1] ]\n",
        "# (XとYのAND)結果\n",
        "learn_label = [ 0, 0, 0, 1 ]"
      ],
      "execution_count": 3,
      "outputs": []
    },
    {
      "cell_type": "markdown",
      "metadata": {
        "id": "59USNUnEs7BE",
        "colab_type": "text"
      },
      "source": [
        "### アルゴリズムのインスタンスを生成"
      ]
    },
    {
      "cell_type": "code",
      "metadata": {
        "id": "87n_J25ns0oI",
        "colab_type": "code",
        "colab": {}
      },
      "source": [
        "# 線形SVCのインスタンスを生成\n",
        "clf = LinearSVC()"
      ],
      "execution_count": 4,
      "outputs": []
    },
    {
      "cell_type": "markdown",
      "metadata": {
        "id": "Y8mp7QyitRxC",
        "colab_type": "text"
      },
      "source": [
        "### インスタンス(モデル)に学習させる"
      ]
    },
    {
      "cell_type": "code",
      "metadata": {
        "id": "arur-_ZmtPiT",
        "colab_type": "code",
        "colab": {
          "base_uri": "https://localhost:8080/",
          "height": 85
        },
        "outputId": "e5c02d73-279b-4563-f636-8040239af1b0"
      },
      "source": [
        "clf.fit(learn_data, learn_label)"
      ],
      "execution_count": 5,
      "outputs": [
        {
          "output_type": "execute_result",
          "data": {
            "text/plain": [
              "LinearSVC(C=1.0, class_weight=None, dual=True, fit_intercept=True,\n",
              "          intercept_scaling=1, loss='squared_hinge', max_iter=1000,\n",
              "          multi_class='ovr', penalty='l2', random_state=None, tol=0.0001,\n",
              "          verbose=0)"
            ]
          },
          "metadata": {
            "tags": []
          },
          "execution_count": 5
        }
      ]
    },
    {
      "cell_type": "markdown",
      "metadata": {
        "id": "stzK9q1ouPLR",
        "colab_type": "text"
      },
      "source": [
        "### モデルが学習できたか、テストデータで予測させてみる"
      ]
    },
    {
      "cell_type": "code",
      "metadata": {
        "id": "S8tIealruON1",
        "colab_type": "code",
        "colab": {
          "base_uri": "https://localhost:8080/",
          "height": 68
        },
        "outputId": "fa363290-bc4a-45d4-d614-67284c2d40b3"
      },
      "source": [
        "# 予測用のテストデータ(検証データ)を作る\n",
        "test_data = [ [0,0], [1,0], [0,1], [1,1] ]\n",
        "# モデルにテストデータを回答させる（予測）\n",
        "test_label = clf.predict(test_data)\n",
        "print(test_label)\n",
        "# 予測結果の評価\n",
        "print(test_data, \"の予測結果\", test_label)\n",
        "# 正解の精度を表示させる\n",
        "print(\"正解率　= \", accuracy_score([0, 0, 0, 1], test_label))"
      ],
      "execution_count": 8,
      "outputs": [
        {
          "output_type": "stream",
          "text": [
            "[0 0 0 1]\n",
            "[[0, 0], [1, 0], [0, 1], [1, 1]] の予測結果 [0 0 0 1]\n",
            "正解率　=  1.0\n"
          ],
          "name": "stdout"
        }
      ]
    },
    {
      "cell_type": "code",
      "metadata": {
        "id": "h87PTIxpvfud",
        "colab_type": "code",
        "colab": {}
      },
      "source": [
        ""
      ],
      "execution_count": null,
      "outputs": []
    }
  ]
}