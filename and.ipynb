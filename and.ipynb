{
  "nbformat": 4,
  "nbformat_minor": 0,
  "metadata": {
    "colab": {
      "name": "and.ipynb",
      "provenance": [],
      "collapsed_sections": [],
      "authorship_tag": "ABX9TyONHsTF3D6veiha5JaBpFjD",
      "include_colab_link": true
    },
    "kernelspec": {
      "name": "python3",
      "display_name": "Python 3"
    }
  },
  "cells": [
    {
      "cell_type": "markdown",
      "metadata": {
        "id": "view-in-github",
        "colab_type": "text"
      },
      "source": [
        "<a href=\"https://colab.research.google.com/github/aso1901104/AI_teach2020/blob/master/and.ipynb\" target=\"_parent\"><img src=\"https://colab.research.google.com/assets/colab-badge.svg\" alt=\"Open In Colab\"/></a>"
      ]
    },
    {
      "cell_type": "markdown",
      "metadata": {
        "id": "So7w_FCtqTUu"
      },
      "source": [
        "### AND演算をモデルに学ばせる(LinearSVC)"
      ]
    },
    {
      "cell_type": "code",
      "metadata": {
        "id": "qeZsk8WXp5lJ"
      },
      "source": [
        "# sckit-learnを使うため、インポートする\n",
        "# 線形SVCのオブジェクト\n",
        "from sklearn.svm import LinearSVC\n",
        "#　結果を評価するためのオブジェクト\n",
        "from sklearn.metrics import accuracy_score"
      ],
      "execution_count": 1,
      "outputs": []
    },
    {
      "cell_type": "markdown",
      "metadata": {
        "id": "Oc4ByByWrVO_"
      },
      "source": [
        "### 学習のためのデータを用意する"
      ]
    },
    {
      "cell_type": "code",
      "metadata": {
        "id": "zigFGAAwq1Rg"
      },
      "source": [
        "# 入力値を表すデータ\n",
        "# 入力X,　入力Y\n",
        "learn_data = [ [0,0], [0,1], [1,0], [1,1] ]\n",
        "# (XとYのAND)結果\n",
        "learn_label = [ 0, 0, 0, 1 ]"
      ],
      "execution_count": 2,
      "outputs": []
    },
    {
      "cell_type": "markdown",
      "metadata": {
        "id": "59USNUnEs7BE"
      },
      "source": [
        "### アルゴリズムのインスタンスを生成"
      ]
    },
    {
      "cell_type": "code",
      "metadata": {
        "id": "87n_J25ns0oI"
      },
      "source": [
        "# 線形SVCのインスタンスを生成\n",
        "clf = LinearSVC()"
      ],
      "execution_count": 3,
      "outputs": []
    },
    {
      "cell_type": "markdown",
      "metadata": {
        "id": "Y8mp7QyitRxC"
      },
      "source": [
        "### インスタンス(モデル)に学習させる"
      ]
    },
    {
      "cell_type": "code",
      "metadata": {
        "id": "arur-_ZmtPiT",
        "outputId": "8b437f26-0cd4-45e7-fa69-a811e3466b06",
        "colab": {
          "base_uri": "https://localhost:8080/",
          "height": 85
        }
      },
      "source": [
        "clf.fit(learn_data, learn_label)"
      ],
      "execution_count": 4,
      "outputs": [
        {
          "output_type": "execute_result",
          "data": {
            "text/plain": [
              "LinearSVC(C=1.0, class_weight=None, dual=True, fit_intercept=True,\n",
              "          intercept_scaling=1, loss='squared_hinge', max_iter=1000,\n",
              "          multi_class='ovr', penalty='l2', random_state=None, tol=0.0001,\n",
              "          verbose=0)"
            ]
          },
          "metadata": {
            "tags": []
          },
          "execution_count": 4
        }
      ]
    },
    {
      "cell_type": "markdown",
      "metadata": {
        "id": "stzK9q1ouPLR"
      },
      "source": [
        "### モデルが学習できたか、テストデータで予測させてみる"
      ]
    },
    {
      "cell_type": "code",
      "metadata": {
        "id": "S8tIealruON1",
        "outputId": "95917344-26cf-4794-c447-94505b0e1b42",
        "colab": {
          "base_uri": "https://localhost:8080/",
          "height": 68
        }
      },
      "source": [
        "# 予測用のテストデータ(検証データ)を作る\n",
        "test_data = [ [0,0], [1,0], [0,1], [1,1] ]\n",
        "# モデルにテストデータを回答させる（予測）　予測のメソッドはpredict\n",
        "test_label = clf.predict(test_data)\n",
        "print(test_label)\n",
        "# 予測結果の評価\n",
        "print(test_data, \"の予測結果：\", test_label)\n",
        "# 正解の精度を表示させる\n",
        "print(\"正解率　= \", accuracy_score([0, 0, 0, 1], test_label))"
      ],
      "execution_count": 5,
      "outputs": [
        {
          "output_type": "stream",
          "text": [
            "[0 0 0 1]\n",
            "[[0, 0], [1, 0], [0, 1], [1, 1]] の予測結果： [0 0 0 1]\n",
            "正解率　=  1.0\n"
          ],
          "name": "stdout"
        }
      ]
    },
    {
      "cell_type": "markdown",
      "metadata": {
        "id": "7wpAcDoZxb60"
      },
      "source": [
        "### XOR演算を実装する"
      ]
    },
    {
      "cell_type": "code",
      "metadata": {
        "id": "h87PTIxpvfud",
        "outputId": "1366c9f2-7831-4ea3-ed94-36b4839bea5a",
        "colab": {
          "base_uri": "https://localhost:8080/",
          "height": 85
        }
      },
      "source": [
        "# XOR演算を学習するためのデータを用意する\n",
        "# X, Yの順\n",
        "learn_data = [ [0,0], [1,0], [0,1], [1,1] ]\n",
        "# X xor Yの結果正解データを渡す\n",
        "learn_label = [0, 1, 1, 0]\n",
        "# 学習モデルのインスタンスを作る(LinearSVC)\n",
        "clf = LinearSVC()\n",
        "#学習させる\n",
        "clf.fit(learn_data, learn_label)"
      ],
      "execution_count": 6,
      "outputs": [
        {
          "output_type": "execute_result",
          "data": {
            "text/plain": [
              "LinearSVC(C=1.0, class_weight=None, dual=True, fit_intercept=True,\n",
              "          intercept_scaling=1, loss='squared_hinge', max_iter=1000,\n",
              "          multi_class='ovr', penalty='l2', random_state=None, tol=0.0001,\n",
              "          verbose=0)"
            ]
          },
          "metadata": {
            "tags": []
          },
          "execution_count": 6
        }
      ]
    },
    {
      "cell_type": "code",
      "metadata": {
        "id": "2NeBRnslxwoc"
      },
      "source": [
        "# 学習モデルに推論させる\n",
        "test_data = [ [0,0], [1,0], [0,1], [1,1] ]\n",
        "test_label = clf.predict(test_data)"
      ],
      "execution_count": 7,
      "outputs": []
    },
    {
      "cell_type": "code",
      "metadata": {
        "id": "w9-x9W4VymDt",
        "outputId": "61262035-5eee-40f8-c217-68848e71843e",
        "colab": {
          "base_uri": "https://localhost:8080/",
          "height": 51
        }
      },
      "source": [
        "#　結果を検証する\n",
        "print(test_data, \"の予測結果：\", test_label)\n",
        "print(\"正解率 = \", accuracy_score([0, 1, 1, 0],test_label))"
      ],
      "execution_count": 8,
      "outputs": [
        {
          "output_type": "stream",
          "text": [
            "[[0, 0], [1, 0], [0, 1], [1, 1]] の予測結果： [1 1 1 1]\n",
            "正解率 =  0.5\n"
          ],
          "name": "stdout"
        }
      ]
    },
    {
      "cell_type": "markdown",
      "metadata": {
        "id": "LkpGMMloaFcL"
      },
      "source": [
        "### K近傍法でXOR演算を実装する"
      ]
    },
    {
      "cell_type": "code",
      "metadata": {
        "id": "qK0MacSuzkAv"
      },
      "source": [
        "# K近傍法のアルゴリズムのクラスをimport\n",
        "from sklearn.neighbors import KNeighborsClassifier"
      ],
      "execution_count": 9,
      "outputs": []
    },
    {
      "cell_type": "code",
      "metadata": {
        "id": "K15zfqGqaX8f"
      },
      "source": [
        "# 学習モデルの変換clfをK近傍法アルゴリズムのインスタンスで上書き\n",
        "clf = KNeighborsClassifier(n_neighbors=1)"
      ],
      "execution_count": 10,
      "outputs": []
    },
    {
      "cell_type": "code",
      "metadata": {
        "id": "kqYIre4CamEk",
        "outputId": "69753e10-c22f-4d15-9249-8667cf357e4d",
        "colab": {
          "base_uri": "https://localhost:8080/",
          "height": 68
        }
      },
      "source": [
        "# 学習用入力データ(learn_data)と結果用正解データ(learn_label)を使って学習\n",
        "clf.fit(learn_data, learn_label)"
      ],
      "execution_count": 11,
      "outputs": [
        {
          "output_type": "execute_result",
          "data": {
            "text/plain": [
              "KNeighborsClassifier(algorithm='auto', leaf_size=30, metric='minkowski',\n",
              "                     metric_params=None, n_jobs=None, n_neighbors=1, p=2,\n",
              "                     weights='uniform')"
            ]
          },
          "metadata": {
            "tags": []
          },
          "execution_count": 11
        }
      ]
    },
    {
      "cell_type": "code",
      "metadata": {
        "id": "NDL_nj2GbFGj",
        "outputId": "99d8d19d-bf59-4d21-8181-adfff9ca16c8",
        "colab": {
          "base_uri": "https://localhost:8080/",
          "height": 51
        }
      },
      "source": [
        "# テスト検証用データ(test_data)と答え合わせ用の正解データ([0, 1, 1, 0])\n",
        "test_label = clf.predict(test_data)\n",
        "\n",
        "# 推論結果の評価\n",
        "print(test_data, \"の予測結果：\", test_label)\n",
        "print(\"正解率　 = \", accuracy_score([0,1,1,0], test_label))"
      ],
      "execution_count": 15,
      "outputs": [
        {
          "output_type": "stream",
          "text": [
            "[[0, 0], [1, 0], [0, 1], [1, 1]] の予測結果： [0 1 1 0]\n",
            "正解率　 =  1.0\n"
          ],
          "name": "stdout"
        }
      ]
    }
  ]
}