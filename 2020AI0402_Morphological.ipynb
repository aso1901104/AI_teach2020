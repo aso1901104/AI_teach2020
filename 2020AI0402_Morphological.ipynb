{
  "nbformat": 4,
  "nbformat_minor": 0,
  "metadata": {
    "colab": {
      "name": "2020AI0402-Morphological.ipynb",
      "provenance": [],
      "collapsed_sections": [],
      "authorship_tag": "ABX9TyP3GnP2YyxiFWkQiZLn75HL",
      "include_colab_link": true
    },
    "kernelspec": {
      "name": "python3",
      "display_name": "Python 3"
    }
  },
  "cells": [
    {
      "cell_type": "markdown",
      "metadata": {
        "id": "view-in-github",
        "colab_type": "text"
      },
      "source": [
        "<a href=\"https://colab.research.google.com/github/aso1901104/AI_teach2020/blob/master/2020AI0402_Morphological.ipynb\" target=\"_parent\"><img src=\"https://colab.research.google.com/assets/colab-badge.svg\" alt=\"Open In Colab\"/></a>"
      ]
    },
    {
      "cell_type": "markdown",
      "metadata": {
        "id": "p1kFqpxAfB42"
      },
      "source": [
        "## 形態素解析(MorphologicalAnalysis)"
      ]
    },
    {
      "cell_type": "markdown",
      "metadata": {
        "id": "4gRx5N7efJU9"
      },
      "source": [
        "### 形態素解析ライブラリMeCabのインストール"
      ]
    },
    {
      "cell_type": "code",
      "metadata": {
        "id": "tB105_2-ePSg"
      },
      "source": [
        "# 形態素解析ライブラリMeCabと辞書(meCab-ipadic-NEologd)のインストール\n",
        "!apt-get -q -y install sudo file mecab libmecab-dev mecab-ipadic-utf8 git curl python-mecab > /dev/null\n",
        "!pip install mecab-python3 > /dev/null\n",
        "\n",
        "# MeCabの実行時の指定パスをインストールパスにリンクさせる\n",
        "# シンボリックリンク(/etc/mecabrc を /usr/local/etc/mecabrc で参照できるようにする)\n",
        "!ln -s /etc/mecabrc /usr/local/etc/mecabrc"
      ],
      "execution_count": 1,
      "outputs": []
    },
    {
      "cell_type": "markdown",
      "metadata": {
        "id": "wXDQjI2h1oEu"
      },
      "source": [
        "### まずMeCabのデフォルト辞書で文章を解析する"
      ]
    },
    {
      "cell_type": "code",
      "metadata": {
        "colab": {
          "base_uri": "https://localhost:8080/"
        },
        "id": "p4rziT9-fd8l",
        "outputId": "90e12a6e-1c19-4e47-b952-2c0e4cee5544"
      },
      "source": [
        "# インストールしたMeCabをimport\n",
        "import MeCab\n",
        "# MeCabオブジェクトの生成(デフォルト辞書で)\n",
        "tagger = MeCab.Tagger()\n",
        "# 形態素解析を実行させる\n",
        "result = tagger.parse(\"メイが恋ダンスを踊っている。\")\n",
        "# 解析結果を表示\n",
        "print(result)"
      ],
      "execution_count": 2,
      "outputs": [
        {
          "output_type": "stream",
          "text": [
            "メイ\t名詞,一般,*,*,*,*,*\n",
            "が\t助詞,格助詞,一般,*,*,*,が,ガ,ガ\n",
            "恋\t名詞,一般,*,*,*,*,恋,コイ,コイ\n",
            "ダンス\t名詞,サ変接続,*,*,*,*,ダンス,ダンス,ダンス\n",
            "を\t助詞,格助詞,一般,*,*,*,を,ヲ,ヲ\n",
            "踊っ\t動詞,自立,*,*,五段・ラ行,連用タ接続,踊る,オドッ,オドッ\n",
            "て\t助詞,接続助詞,*,*,*,*,て,テ,テ\n",
            "いる\t動詞,非自立,*,*,一段,基本形,いる,イル,イル\n",
            "。\t記号,句点,*,*,*,*,。,。,。\n",
            "EOS\n",
            "\n"
          ],
          "name": "stdout"
        }
      ]
    },
    {
      "cell_type": "markdown",
      "metadata": {
        "id": "PzhO0kPr2LdW"
      },
      "source": [
        "### 最新の情報が入った辞書(ipadic-neologd)で形態素解析してみる"
      ]
    },
    {
      "cell_type": "code",
      "metadata": {
        "colab": {
          "base_uri": "https://localhost:8080/"
        },
        "id": "eqNjbQ4w2E5f",
        "outputId": "3e49d83f-154d-4dc5-ae83-cbd25456fce7"
      },
      "source": [
        "# github上からipadic-neologdの最新版をダウンロード\n",
        "!git clone --depth 1 https://github.com/neologd/mecab-ipadic-neologd.git > /dev/null\n",
        "# ipadic-neologdのインストール\n",
        "!echo yes | mecab-ipadic-neologd/bin/install-mecab-ipadic-neologd -n > /dev/null 2>&1"
      ],
      "execution_count": 3,
      "outputs": [
        {
          "output_type": "stream",
          "text": [
            "Cloning into 'mecab-ipadic-neologd'...\n",
            "remote: Enumerating objects: 75, done.\u001b[K\n",
            "remote: Counting objects: 100% (75/75), done.\u001b[K\n",
            "remote: Compressing objects: 100% (74/74), done.\u001b[K\n",
            "remote: Total 75 (delta 5), reused 54 (delta 0), pack-reused 0\u001b[K\n",
            "Unpacking objects: 100% (75/75), done.\n"
          ],
          "name": "stdout"
        }
      ]
    },
    {
      "cell_type": "markdown",
      "metadata": {
        "id": "lTh2FCYp2ymE"
      },
      "source": [
        "### 辞書のインストール済みディレクトリを表示確認"
      ]
    },
    {
      "cell_type": "code",
      "metadata": {
        "colab": {
          "base_uri": "https://localhost:8080/"
        },
        "id": "R63plkp32uws",
        "outputId": "8a3784c9-3771-4296-c43a-a41f0f3b5ed3"
      },
      "source": [
        "# 辞書のインストール済みディレクトリの場所を表示\n",
        "!echo `mecab-config --dicdir`\"/mecab-ipadic-neologd\""
      ],
      "execution_count": 4,
      "outputs": [
        {
          "output_type": "stream",
          "text": [
            "/usr/lib/x86_64-linux-gnu/mecab/dic/mecab-ipadic-neologd\n"
          ],
          "name": "stdout"
        }
      ]
    },
    {
      "cell_type": "markdown",
      "metadata": {
        "id": "8WZGdv6k3Lyq"
      },
      "source": [
        "### 辞書(ipadic-neologd)の場所を指定してMeCabで形態素解析"
      ]
    },
    {
      "cell_type": "code",
      "metadata": {
        "id": "aII5orpw3Ik2",
        "colab": {
          "base_uri": "https://localhost:8080/"
        },
        "outputId": "1e9328e8-bc0e-493e-a224-f2f86c65f33c"
      },
      "source": [
        "import MeCab\n",
        "# MeCabオブジェクトの生成(デフォルト辞書で)\n",
        "path_neologd = \"/usr/lib/x86_64-linux-gnu/mecab/dic/mecab-ipadic-neologd\"\n",
        "tagger = MeCab.Tagger(\"-d\" + path_neologd)\n",
        "# 形態素解析を実行させる\n",
        "result = tagger.parse(\"メイが恋ダンスを踊っている。\")\n",
        "# 解析結果を表示\n",
        "print(result)"
      ],
      "execution_count": 5,
      "outputs": [
        {
          "output_type": "stream",
          "text": [
            "メイ\t名詞,固有名詞,人名,一般,*,*,M.A.Y,メイ,メイ\n",
            "が\t助詞,格助詞,一般,*,*,*,が,ガ,ガ\n",
            "恋ダンス\t名詞,固有名詞,一般,*,*,*,恋ダンス,コイダンス,コイダンス\n",
            "を\t助詞,格助詞,一般,*,*,*,を,ヲ,ヲ\n",
            "踊っ\t動詞,自立,*,*,五段・ラ行,連用タ接続,踊る,オドッ,オドッ\n",
            "て\t助詞,接続助詞,*,*,*,*,て,テ,テ\n",
            "いる\t動詞,非自立,*,*,一段,基本形,いる,イル,イル\n",
            "。\t記号,句点,*,*,*,*,。,。,。\n",
            "EOS\n",
            "\n"
          ],
          "name": "stdout"
        }
      ]
    },
    {
      "cell_type": "markdown",
      "metadata": {
        "id": "DtwRvJhIC0up"
      },
      "source": [
        "### 形態素解析結果を品詞分析して名詞、動詞、形容詞だけを抜き出す事でストップワードを除外する"
      ]
    },
    {
      "cell_type": "code",
      "metadata": {
        "colab": {
          "base_uri": "https://localhost:8080/"
        },
        "id": "ySSNLjfNCVKG",
        "outputId": "1493d313-72af-4e92-dab3-d2246421a9b6"
      },
      "source": [
        "import MeCab\n",
        "# mecab-ipadic-Neologd辞書を指定して、MeCabオブジェクトの作成\n",
        "path_neologd = \"/usr/lib/x86_64-linux-gnu/mecab/dic/mecab-ipadic-neologd\"\n",
        "tagger = MeCab.Tagger(\"-d\" + path_neologd)\n",
        "# 形態素解析して、結果（リスト）を取得\n",
        "node = tagger.parseToNode(\"メイが恋ダンスを踊っている。\")\n",
        "print( node )\n",
        "\n",
        "result = [] # 抽出結果を登録する配列\n",
        "# リストのリンクNextがNodeになるまでループ処理\n",
        "while node is not None:\n",
        "  # 品詞情報取得node詳細の先頭(品詞情報)だけを抜き出す\n",
        "  hinshi = node.feature.split(\",\")[0]\n",
        "  if hinshi in [\"名詞\"]:\n",
        "    # 名詞だったら、表層形を結果配列resultに追加\n",
        "    result.append(node.surface)\n",
        "  elif hinshi in [\"動詞\", \"形容詞\"]:\n",
        "    # 動詞、形容詞だったら、node形態素情報から原型情報(index6番目)をresultに追加\n",
        "    result.append(node.feature.split(\",\")[6])\n",
        "  #endif\n",
        "  node = node.next\n",
        "#endwhile\n",
        "print(result)"
      ],
      "execution_count": 9,
      "outputs": [
        {
          "output_type": "stream",
          "text": [
            "<Swig Object of type 'MeCab::Node *' at 0x7fddd6d1f298>\n",
            "['メイ', '恋ダンス', '踊る', 'いる']\n"
          ],
          "name": "stdout"
        }
      ]
    }
  ]
}