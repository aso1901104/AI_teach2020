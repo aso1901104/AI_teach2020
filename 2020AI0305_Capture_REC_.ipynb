{
  "nbformat": 4,
  "nbformat_minor": 0,
  "metadata": {
    "colab": {
      "name": "2020AI0305-Capture-REC .ipynb",
      "provenance": [],
      "collapsed_sections": [],
      "authorship_tag": "ABX9TyMUbSiwdJG0dz9VvhyCZxXR",
      "include_colab_link": true
    },
    "kernelspec": {
      "name": "python3",
      "display_name": "Python 3"
    }
  },
  "cells": [
    {
      "cell_type": "markdown",
      "metadata": {
        "id": "view-in-github",
        "colab_type": "text"
      },
      "source": [
        "<a href=\"https://colab.research.google.com/github/aso1901104/AI_teach2020/blob/master/2020AI0305_Capture_REC_.ipynb\" target=\"_parent\"><img src=\"https://colab.research.google.com/assets/colab-badge.svg\" alt=\"Open In Colab\"/></a>"
      ]
    },
    {
      "cell_type": "markdown",
      "metadata": {
        "id": "LEB8CbpBM0dq"
      },
      "source": [
        "# カメラや動画ファイルからのキャプチャ内容を加工して録画する"
      ]
    },
    {
      "cell_type": "code",
      "metadata": {
        "id": "CbYs2bP1LnXA"
      },
      "source": [
        "# ライブラリのimport\n",
        "import cv2, os\n",
        "import urllib.request as req"
      ],
      "execution_count": 8,
      "outputs": []
    },
    {
      "cell_type": "markdown",
      "metadata": {
        "id": "Vzo6hvniNJp9"
      },
      "source": [
        "### 動画ファイルのダウンロード"
      ]
    },
    {
      "cell_type": "code",
      "metadata": {
        "colab": {
          "base_uri": "https://localhost:8080/"
        },
        "id": "DEhWqvcsNJCe",
        "outputId": "c0a44952-31c4-4892-b77f-fdd5e63d3d70"
      },
      "source": [
        "url = \"https://github.com/masatokg/sample_photo/raw/master/fish.mp4\"\n",
        "save_file = \"fish.mp4\"\n",
        "req.urlretrieve(url, save_file)"
      ],
      "execution_count": 9,
      "outputs": [
        {
          "output_type": "execute_result",
          "data": {
            "text/plain": [
              "('fish.mp4', <http.client.HTTPMessage at 0x7f402e783f28>)"
            ]
          },
          "metadata": {
            "tags": []
          },
          "execution_count": 9
        }
      ]
    },
    {
      "cell_type": "code",
      "metadata": {
        "id": "xp71WfGiNcAs"
      },
      "source": [
        "# 保存ファイル名\n",
        "out_file = \"out.mp4\"\n",
        "# キャプチャソースを指定してキャプチャインスタンスを取得\n",
        "# webカメラの場合：0、動画ファイルの場合：ファイルパス\n",
        "cap = cv2.VideoCapture(save_file)\n",
        "# 動画フォーマット(mp4ビデオ)を指定するインスタンスを取得\n",
        "fourcc = cv2.VideoWriter_fourcc('M', 'P', '4', 'V')\n",
        "# フレームレート(fps)を指定\n",
        "fps = 30.0"
      ],
      "execution_count": 10,
      "outputs": []
    },
    {
      "cell_type": "markdown",
      "metadata": {
        "id": "pCoorSLbN-4U"
      },
      "source": [
        "### キャプチャしたフレームの加工処理用関数"
      ]
    },
    {
      "cell_type": "code",
      "metadata": {
        "id": "AczOBAx0N-Zm"
      },
      "source": [
        "# フレーム引数で受け取り、加工して戻り値で返す\n",
        "def process_img( frame ):\n",
        "  # 加工処理\n",
        "  # BGRのうち、BGを0にしてRの光だけにする\n",
        "  frame[ :, :, 0 ] = 0 #B\n",
        "  frame[ :, :, 1 ] = 0 #G\n",
        "\n",
        "  return frame"
      ],
      "execution_count": 11,
      "outputs": []
    },
    {
      "cell_type": "markdown",
      "metadata": {
        "id": "L4jL8TXLOTtd"
      },
      "source": [
        "### フレームを受け取り、そのフレームサイズでキャプチャ画像を録画数流ためのレコーダーを定義して戻り値で返す関数"
      ]
    },
    {
      "cell_type": "code",
      "metadata": {
        "id": "9c0UhkrQOTRv"
      },
      "source": [
        "def open_recorder( frame ):\n",
        "  h = len( frame ) # フレームの高さ(Numpy2次元配列の行数)\n",
        "  w = len( frame[0] ) # フレームの幅(Numpy2次元配列の列数)\n",
        "  size = (w, h) # フレーム画像サイズをタプル変数で定義\n",
        "  # レコーダーのインスタンスを生成\n",
        "  recorder = cv2.VideoWriter(out_file, fourcc, fps, size, isColor=True)\n",
        "  return recorder"
      ],
      "execution_count": 12,
      "outputs": []
    },
    {
      "cell_type": "markdown",
      "metadata": {
        "id": "lfFQvuIFO1En"
      },
      "source": [
        "### キャプチャの読込処理を実行"
      ]
    },
    {
      "cell_type": "code",
      "metadata": {
        "colab": {
          "base_uri": "https://localhost:8080/"
        },
        "id": "Tn_EaKK7O0pJ",
        "outputId": "d83cb582-4d8d-4ab2-a08d-8af27ee3adf0"
      },
      "source": [
        "# 1フレーム読み込み\n",
        "is_ok, frame = cap.read()\n",
        "# 成功なら、そのフレームを録画するためのレコーダーを開く\n",
        "if is_ok:\n",
        "  print(\"1 frame has read.\")\n",
        "  # そのフレームを録画するレコーダーを開く自作関数\n",
        "  recorder = open_recorder( frame )\n",
        "  # 読み込みフレームがなくなるまで無限ループ\n",
        "  while True:\n",
        "    # 読み込んだフレームを加工する自作関数\n",
        "    frame = process_img( frame )\n",
        "    # 加工した1フレームをレコーダーに書き込む\n",
        "    recorder.write(frame)\n",
        "    # 次の1フレームを読み込む\n",
        "    is_ok, frame = cap.read()\n",
        "    # 読み込むフレームがなかったら、無限ループをbreak\n",
        "    if is_ok is not True:\n",
        "      break\n",
        "    # endif\n",
        "  # endwhile\n",
        "else:\n",
        "  print(\"there is no  frame.\")\n",
        "#endif\n"
      ],
      "execution_count": 13,
      "outputs": [
        {
          "output_type": "stream",
          "text": [
            "1 frame has read.\n"
          ],
          "name": "stdout"
        }
      ]
    },
    {
      "cell_type": "markdown",
      "metadata": {
        "id": "CMRcQBhvP5lt"
      },
      "source": [
        "### 後処理とダウンロード"
      ]
    },
    {
      "cell_type": "code",
      "metadata": {
        "colab": {
          "base_uri": "https://localhost:8080/",
          "height": 34
        },
        "id": "lkyGqvsIP7VC",
        "outputId": "3deea324-60b6-4259-e9f6-dd5ed2a204e8"
      },
      "source": [
        "# レコーダーの開放\n",
        "recorder.release()\n",
        "# キャプチャの開放\n",
        "cap.release()\n",
        "#メッセージ\n",
        "print(\"capture and recording end.\")\n",
        "# 出力mp4ファイルのダウンロード処理\n",
        "from google.colab import files\n",
        "files.download(out_file)"
      ],
      "execution_count": 14,
      "outputs": [
        {
          "output_type": "stream",
          "text": [
            "capture and recording end.\n"
          ],
          "name": "stdout"
        },
        {
          "output_type": "display_data",
          "data": {
            "application/javascript": [
              "\n",
              "    async function download(id, filename, size) {\n",
              "      if (!google.colab.kernel.accessAllowed) {\n",
              "        return;\n",
              "      }\n",
              "      const div = document.createElement('div');\n",
              "      const label = document.createElement('label');\n",
              "      label.textContent = `Downloading \"${filename}\": `;\n",
              "      div.appendChild(label);\n",
              "      const progress = document.createElement('progress');\n",
              "      progress.max = size;\n",
              "      div.appendChild(progress);\n",
              "      document.body.appendChild(div);\n",
              "\n",
              "      const buffers = [];\n",
              "      let downloaded = 0;\n",
              "\n",
              "      const channel = await google.colab.kernel.comms.open(id);\n",
              "      // Send a message to notify the kernel that we're ready.\n",
              "      channel.send({})\n",
              "\n",
              "      for await (const message of channel.messages) {\n",
              "        // Send a message to notify the kernel that we're ready.\n",
              "        channel.send({})\n",
              "        if (message.buffers) {\n",
              "          for (const buffer of message.buffers) {\n",
              "            buffers.push(buffer);\n",
              "            downloaded += buffer.byteLength;\n",
              "            progress.value = downloaded;\n",
              "          }\n",
              "        }\n",
              "      }\n",
              "      const blob = new Blob(buffers, {type: 'application/binary'});\n",
              "      const a = document.createElement('a');\n",
              "      a.href = window.URL.createObjectURL(blob);\n",
              "      a.download = filename;\n",
              "      div.appendChild(a);\n",
              "      a.click();\n",
              "      div.remove();\n",
              "    }\n",
              "  "
            ],
            "text/plain": [
              "<IPython.core.display.Javascript object>"
            ]
          },
          "metadata": {
            "tags": []
          }
        },
        {
          "output_type": "display_data",
          "data": {
            "application/javascript": [
              "download(\"download_fd76f5e0-b1f0-4047-b0a9-4824d3b15483\", \"out.mp4\", 11128507)"
            ],
            "text/plain": [
              "<IPython.core.display.Javascript object>"
            ]
          },
          "metadata": {
            "tags": []
          }
        }
      ]
    }
  ]
}