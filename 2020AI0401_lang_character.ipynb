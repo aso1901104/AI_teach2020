{
  "nbformat": 4,
  "nbformat_minor": 0,
  "metadata": {
    "colab": {
      "name": "2020AI0401-lang-character.ipynb",
      "provenance": [],
      "collapsed_sections": [],
      "authorship_tag": "ABX9TyM2wUoeDjwp+x2Xl05sgz1L",
      "include_colab_link": true
    },
    "kernelspec": {
      "name": "python3",
      "display_name": "Python 3"
    }
  },
  "cells": [
    {
      "cell_type": "markdown",
      "metadata": {
        "id": "view-in-github",
        "colab_type": "text"
      },
      "source": [
        "<a href=\"https://colab.research.google.com/github/aso1901104/AI_teach2020/blob/master/2020AI0401_lang_character.ipynb\" target=\"_parent\"><img src=\"https://colab.research.google.com/assets/colab-badge.svg\" alt=\"Open In Colab\"/></a>"
      ]
    },
    {
      "cell_type": "markdown",
      "metadata": {
        "id": "mnMTjssnRHVm"
      },
      "source": [
        "# 異なる文字を使う言語を分類する"
      ]
    },
    {
      "cell_type": "code",
      "metadata": {
        "id": "R9XqZI5hRHvu"
      },
      "source": [
        "# ライブラリのimport\n",
        "import numpy as np\n",
        "from sklearn.naive_bayes import GaussianNB\n",
        "from sklearn.metrics import accuracy_score"
      ],
      "execution_count": 14,
      "outputs": []
    },
    {
      "cell_type": "markdown",
      "metadata": {
        "id": "k5VtYcs5PccU"
      },
      "source": [
        "### 文字コードの値をインデックスにした配列を作り、各コード値(コードポイント)別に文章中の出現頻度をカウントする関数を定義\n"
      ]
    },
    {
      "cell_type": "code",
      "metadata": {
        "id": "hxrCf6S-PWa5"
      },
      "source": [
        "# Unicode文字列の文字コード値(コードポイント)頻度測定する関数\n",
        "def count_codePoint(str):\n",
        "  # Unicodeのコードポイントをインデックス位置(アドレス)とする配列を用意\n",
        "  counter = np.zeros(65535)\n",
        "  # 引数strの文字数だけループ雨\n",
        "  for i in range( len(str) ):\n",
        "    #各文字コード値を変数に代入\n",
        "    # ord → 文字コード取得\n",
        "    code_point  = ord(str[i])\n",
        "    # Unicodeの範囲外だったら無視する\n",
        "    if code_point > 65535:\n",
        "      continue\n",
        "    # endif\n",
        "    # 対応するアドレスの出現回数カウントをインクリメント\n",
        "    counter[code_point] += 1\n",
        "  # endfor\n",
        "  # 各要素を文字数で割って正規化(出現率、つまり％に変える)\n",
        "  counter = counter / len(str)\n",
        "  return counter"
      ],
      "execution_count": 15,
      "outputs": []
    },
    {
      "cell_type": "markdown",
      "metadata": {
        "id": "VpNOuHNXSvjy"
      },
      "source": [
        "### 学習用データを作成する"
      ]
    },
    {
      "cell_type": "code",
      "metadata": {
        "id": "Ziq07GPQSukf"
      },
      "source": [
        "# 学習用データの準備\n",
        "ja_str = \"これは日本語の文章です。\"\n",
        "en_str = \"This is English Sentences.\"\n",
        "th_str = \"นี่เป็นประโยคภาษาไทย\"\n",
        "# それぞれの週つ限頻度割合を3つの要素として説明変数xを作る\n",
        "x_train = [count_codePoint(ja_str), count_codePoint(en_str), count_codePoint(th_str)]\n",
        "# 同じ順番で正解となる目的変数(ラベル)を作る\n",
        "y_train = ['ja', 'en', 'th']\n"
      ],
      "execution_count": 16,
      "outputs": []
    },
    {
      "cell_type": "markdown",
      "metadata": {
        "id": "W3VlX5EbUkF8"
      },
      "source": [
        "### 言語ごとの文字のパターンを学習する"
      ]
    },
    {
      "cell_type": "code",
      "metadata": {
        "colab": {
          "base_uri": "https://localhost:8080/"
        },
        "id": "hElKeQPGS54h",
        "outputId": "0e26e3b9-5346-4608-a36a-5131c9d65cb0"
      },
      "source": [
        "# 今回はガウス分布によるナイーブベイズアルゴリズムで学習モデルを作る\n",
        "# インスタンス取得\n",
        "clf = GaussianNB()\n",
        "# 説明変数と目的変数を渡す\n",
        "clf.fit(x_train, y_train)"
      ],
      "execution_count": 17,
      "outputs": [
        {
          "output_type": "execute_result",
          "data": {
            "text/plain": [
              "GaussianNB(priors=None, var_smoothing=1e-09)"
            ]
          },
          "metadata": {
            "tags": []
          },
          "execution_count": 17
        }
      ]
    },
    {
      "cell_type": "markdown",
      "metadata": {
        "id": "iuy1_FYgVUKD"
      },
      "source": [
        "### テスト検証用データを作成する"
      ]
    },
    {
      "cell_type": "code",
      "metadata": {
        "id": "D7xUt1nKVKyG"
      },
      "source": [
        "# テスト検証用データ(評価データ)の作成\n",
        "ja_test_str = \"こんにちは\"\n",
        "en_test_str = \"Hello\"\n",
        "th_test_str = \"สวัสดี\"\n",
        "\n",
        "# 説明変数にする\n",
        "x_test = [count_codePoint(ja_test_str), count_codePoint(en_test_str), count_codePoint(th_test_str)]\n",
        "#目的変数にする\n",
        "y_test = ['ja', 'en', 'th']"
      ],
      "execution_count": 18,
      "outputs": []
    },
    {
      "cell_type": "markdown",
      "metadata": {
        "id": "RQ2JDm_RWubY"
      },
      "source": [
        "### テスト検証(推論)し、評価する"
      ]
    },
    {
      "cell_type": "code",
      "metadata": {
        "colab": {
          "base_uri": "https://localhost:8080/"
        },
        "id": "Fc9iYghNWtzK",
        "outputId": "ed983bac-eaa8-4c29-ed47-af65275ef514"
      },
      "source": [
        "# 推論させる\n",
        "y_pred = clf.predict(x_test)\n",
        "print(\"1つめの文章の言語は\", y_pred[0],\"です\")\n",
        "print(\"2つめの文章の言語は\", y_pred[1],\"です\")\n",
        "print(\"3つめの文章の言語は\", y_pred[2],\"です\")\n",
        "print(\"正解率：\", accuracy_score(y_test, y_pred))"
      ],
      "execution_count": 19,
      "outputs": [
        {
          "output_type": "stream",
          "text": [
            "1つめの文章の言語は ja です\n",
            "2つめの文章の言語は en です\n",
            "3つめの文章の言語は th です\n",
            "正解率： 1.0\n"
          ],
          "name": "stdout"
        }
      ]
    },
    {
      "cell_type": "markdown",
      "metadata": {
        "id": "2Lh6qB6mZsXi"
      },
      "source": [
        "## 同じ文字を使用する言語を分類"
      ]
    },
    {
      "cell_type": "markdown",
      "metadata": {
        "id": "0SpocqQlZwO0"
      },
      "source": [
        "### サンプルとして使うWikipedia記事のテキストデータをダウンロードする"
      ]
    },
    {
      "cell_type": "code",
      "metadata": {
        "colab": {
          "base_uri": "https://localhost:8080/"
        },
        "id": "okVi0frPZvo4",
        "outputId": "c03eb773-0b6d-4465-8a5a-f469163a4a70"
      },
      "source": [
        "import urllib.request as req\n",
        "# 学習データ用記事\n",
        "url = \"https://github.com/masatokg/sample_photo/raw/master/train.zip\"\n",
        "save_file = \"train.zip\"\n",
        "req.urlretrieve( url, save_file )\n",
        "# テスト検証用データ記事\n",
        "url = \"https://github.com/masatokg/sample_photo/raw/master/test.zip\"\n",
        "save_file = \"test.zip\"\n",
        "req.urlretrieve( url, save_file )\n",
        "\n",
        "# unzip(解凍する)\n",
        "!unzip -o -q \"./train.zip\"\n",
        "print(\"train.zip解凍\")\n",
        "!unzip -o -q \"./test.zip\"\n",
        "print(\"test.zip解凍\")"
      ],
      "execution_count": 20,
      "outputs": [
        {
          "output_type": "stream",
          "text": [
            "train.zip解凍\n",
            "test.zip解凍\n"
          ],
          "name": "stdout"
        }
      ]
    },
    {
      "cell_type": "markdown",
      "metadata": {
        "id": "Q4t9kDINcLkD"
      },
      "source": [
        "### ダウンロードしたテキストファイルのうち、学習用を読込み、学習用の説明変数データと目的変数データを作る"
      ]
    },
    {
      "cell_type": "code",
      "metadata": {
        "colab": {
          "base_uri": "https://localhost:8080/"
        },
        "id": "jXOkSwYQbIoJ",
        "outputId": "be8a5194-8d4f-4906-df15-61d5b2b3d6c8"
      },
      "source": [
        "import glob\n",
        "\n",
        "# 学習データの準備\n",
        "index = 0\n",
        "x_train = [] # 学習用説明変数\n",
        "y_train = [] # 学習用目的変数（ラベル）\n",
        "for file in glob.glob( \"./train/*.txt\" ): # train フォルダのtxt拡張子のファイル分ループ\n",
        "  # 言語情報のキーワードになるものを文中から取得し、目的変数（ラベル）として設定\n",
        "  y_train.append( file[8:10] )\n",
        "  print(\"ファイルパスの一部をラベルにする:\", file, \" = \", file[8:10] )\n",
        "  # print( y_train )\n",
        "\n",
        "  # ファイル内の文字列を連結後、コードポイント頻度を測定し、説明変数として設定\n",
        "  file_str = \"\"\n",
        "  # ファイルを開いて1行ずつ文字列連結する\n",
        "  for line in open( file, 'r' ):\n",
        "    file_str = ( file_str + line )\n",
        "  # for文終わり\n",
        "  x_train.append( count_codePoint( file_str ) )\n",
        "#for文終わり\n",
        "# print( x_train )"
      ],
      "execution_count": 21,
      "outputs": [
        {
          "output_type": "stream",
          "text": [
            "ファイルパスの一部をラベルにする: ./train/de_cat.txt  =  de\n",
            "ファイルパスの一部をラベルにする: ./train/en_cat.txt  =  en\n",
            "ファイルパスの一部をラベルにする: ./train/es_dog.txt  =  es\n",
            "ファイルパスの一部をラベルにする: ./train/es_elephant.txt  =  es\n",
            "ファイルパスの一部をラベルにする: ./train/de_elephant.txt  =  de\n",
            "ファイルパスの一部をラベルにする: ./train/de_dog.txt  =  de\n",
            "ファイルパスの一部をラベルにする: ./train/en_elephant.txt  =  en\n",
            "ファイルパスの一部をラベルにする: ./train/es_cat.txt  =  es\n",
            "ファイルパスの一部をラベルにする: ./train/en_dog.txt  =  en\n"
          ],
          "name": "stdout"
        }
      ]
    },
    {
      "cell_type": "markdown",
      "metadata": {
        "id": "gtTX8ctRcdoA"
      },
      "source": [
        "### 作成した学習データをガウス分布のナイーブベイズ分類器（GaussianNB）で学習させる"
      ]
    },
    {
      "cell_type": "code",
      "metadata": {
        "colab": {
          "base_uri": "https://localhost:8080/"
        },
        "id": "uDLQ1GLgca9w",
        "outputId": "47fa3167-6e49-4789-ed88-929ed793b508"
      },
      "source": [
        "# 学習モデルのインスタンスを生成(ガウシアンNB)\n",
        "clf = GaussianNB()\n",
        "# 学習させる\n",
        "clf.fit( x_train, y_train )"
      ],
      "execution_count": 22,
      "outputs": [
        {
          "output_type": "execute_result",
          "data": {
            "text/plain": [
              "GaussianNB(priors=None, var_smoothing=1e-09)"
            ]
          },
          "metadata": {
            "tags": []
          },
          "execution_count": 22
        }
      ]
    },
    {
      "cell_type": "markdown",
      "metadata": {
        "id": "rE39OtXuchLa"
      },
      "source": [
        "### ダウンロードしたテキストファイルのうち、テスト検証用を読込、テスト検証用の説明変数、目的変数データを作る"
      ]
    },
    {
      "cell_type": "code",
      "metadata": {
        "colab": {
          "base_uri": "https://localhost:8080/"
        },
        "id": "TiY9VhoKcgsu",
        "outputId": "404da875-508e-4d9e-a93d-b66291edb21b"
      },
      "source": [
        "# 評価（テスト検証）用データの作成\n",
        "index = 0\n",
        "x_test = [] # 説明変数\n",
        "y_test = [] # 目的変数\n",
        "# testフォルダ内のtxt拡張子のファイルをループする\n",
        "for file in glob.glob( \"./test/*.txt\" ):\n",
        "  # 言語情報になるキーワードをファイルパスから抜き出し、目的変数（ラベル）として設定\n",
        "  y_test.append( file[7:9] )\n",
        "  print(\"ファイルパスの一部をラベルにする:\", file, \" = \", file[7:9])\n",
        "\n",
        "  # ファイル内の文字列を連結する\n",
        "  file_str = \"\"\n",
        "  # ファイル内の一行ずつを文字列連結\n",
        "  for line in open( file, 'r' ):\n",
        "    file_str = file_str + line\n",
        "  # for文終わり\n",
        "  # ファイル内の文字列のUnicode値（Unicodeポイント）の頻度を測定し、説明変数として設定\n",
        "  x_test.append( count_codePoint( file_str ) )\n",
        "  # print( file_str ) #1ファイル分を表示\n",
        "  # print( x_test[0] )  #1ファイル分を表示\n",
        "# for文終わり"
      ],
      "execution_count": 23,
      "outputs": [
        {
          "output_type": "stream",
          "text": [
            "ファイルパスの一部をラベルにする: ./test/en_lion.txt  =  en\n",
            "ファイルパスの一部をラベルにする: ./test/es_lion.txt  =  es\n",
            "ファイルパスの一部をラベルにする: ./test/de_lion.txt  =  de\n"
          ],
          "name": "stdout"
        }
      ]
    },
    {
      "cell_type": "markdown",
      "metadata": {
        "id": "DleDeEaScniQ"
      },
      "source": [
        "### 学習モデルで推論し、評価する"
      ]
    },
    {
      "cell_type": "code",
      "metadata": {
        "colab": {
          "base_uri": "https://localhost:8080/"
        },
        "id": "HI7i1Kwbcm4O",
        "outputId": "f43a4fad-4b70-44af-eefa-05bfdcf407b3"
      },
      "source": [
        "# 推論する\n",
        "y_pred = clf.predict( x_test )\n",
        "print( y_pred ) # 推論結果を表示\n",
        "# ひょうかする　\n",
        "print( \"正解率 = \", accuracy_score( y_test, y_pred ) )"
      ],
      "execution_count": 24,
      "outputs": [
        {
          "output_type": "stream",
          "text": [
            "['en' 'es' 'de']\n",
            "正解率 =  1.0\n"
          ],
          "name": "stdout"
        }
      ]
    }
  ]
}